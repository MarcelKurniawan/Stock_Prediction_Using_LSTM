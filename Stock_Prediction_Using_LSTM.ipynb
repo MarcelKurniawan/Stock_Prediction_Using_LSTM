{
  "cells": [
    {
      "attachments": {},
      "cell_type": "markdown",
      "metadata": {
        "id": "4ClaB-LMfGHu"
      },
      "source": [
        "# **Nama : Marcel Kurniawan**"
      ]
    },
    {
      "cell_type": "code",
      "execution_count": null,
      "metadata": {
        "id": "R-4X5w6rbSyH"
      },
      "outputs": [],
      "source": [
        "import numpy as np\n",
        "import pandas as pd\n",
        "import matplotlib.pyplot as plt\n",
        "import seaborn as sns\n",
        "import warnings\n",
        "warnings.filterwarnings(\"ignore\")"
      ]
    },
    {
      "cell_type": "code",
      "execution_count": null,
      "metadata": {
        "id": "XZuxt4ptcVNl"
      },
      "outputs": [],
      "source": [
        "path_aapl = \"/content/drive/MyDrive/UAS_DeepLearning/AAPL.csv\"\n",
        "path_amd = \"/content/drive/MyDrive/UAS_DeepLearning/AMD.csv\""
      ]
    },
    {
      "cell_type": "code",
      "execution_count": null,
      "metadata": {
        "id": "_k0eiPSPdAW1"
      },
      "outputs": [],
      "source": [
        "aapl = pd.read_csv(path_aapl,parse_dates=['Date'],index_col=['Date'])\n",
        "amd = pd.read_csv(path_amd,parse_dates=['Date'],index_col=['Date'])"
      ]
    },
    {
      "attachments": {},
      "cell_type": "markdown",
      "metadata": {
        "id": "P4UJMARffQSP"
      },
      "source": [
        "# **1a. Explorasi, praproses data dan splitting data**"
      ]
    },
    {
      "attachments": {},
      "cell_type": "markdown",
      "metadata": {
        "id": "3qmFKq5QTGZn"
      },
      "source": [
        "## **Explorasi Data**"
      ]
    },
    {
      "attachments": {},
      "cell_type": "markdown",
      "metadata": {
        "id": "Eo-_dvC7RlVX"
      },
      "source": [
        "Pada tahap ini saya melakukan beberapa eksplorasi untuk menemukan problem dari data ini yang nantinya akan dilakukan praproses data setelahnya."
      ]
    },
    {
      "cell_type": "code",
      "execution_count": null,
      "metadata": {
        "colab": {
          "base_uri": "https://localhost:8080/",
          "height": 237
        },
        "id": "KFGt4PQmdT7w",
        "outputId": "5584c27a-ad89-43f7-f9cc-ec82eebf8be7"
      },
      "outputs": [
        {
          "data": {
            "text/html": [
              "\n",
              "  <div id=\"df-c3e1fb90-d071-4d17-8e46-729891679278\">\n",
              "    <div class=\"colab-df-container\">\n",
              "      <div>\n",
              "<style scoped>\n",
              "    .dataframe tbody tr th:only-of-type {\n",
              "        vertical-align: middle;\n",
              "    }\n",
              "\n",
              "    .dataframe tbody tr th {\n",
              "        vertical-align: top;\n",
              "    }\n",
              "\n",
              "    .dataframe thead th {\n",
              "        text-align: right;\n",
              "    }\n",
              "</style>\n",
              "<table border=\"1\" class=\"dataframe\">\n",
              "  <thead>\n",
              "    <tr style=\"text-align: right;\">\n",
              "      <th></th>\n",
              "      <th>Open</th>\n",
              "      <th>High</th>\n",
              "      <th>Low</th>\n",
              "      <th>Close</th>\n",
              "      <th>Adj Close</th>\n",
              "      <th>Volume</th>\n",
              "    </tr>\n",
              "    <tr>\n",
              "      <th>Date</th>\n",
              "      <th></th>\n",
              "      <th></th>\n",
              "      <th></th>\n",
              "      <th></th>\n",
              "      <th></th>\n",
              "      <th></th>\n",
              "    </tr>\n",
              "  </thead>\n",
              "  <tbody>\n",
              "    <tr>\n",
              "      <th>1980-12-12</th>\n",
              "      <td>0.513393</td>\n",
              "      <td>0.515625</td>\n",
              "      <td>0.513393</td>\n",
              "      <td>0.513393</td>\n",
              "      <td>0.406782</td>\n",
              "      <td>117258400</td>\n",
              "    </tr>\n",
              "    <tr>\n",
              "      <th>1980-12-15</th>\n",
              "      <td>0.488839</td>\n",
              "      <td>0.488839</td>\n",
              "      <td>0.486607</td>\n",
              "      <td>0.486607</td>\n",
              "      <td>0.385558</td>\n",
              "      <td>43971200</td>\n",
              "    </tr>\n",
              "    <tr>\n",
              "      <th>1980-12-16</th>\n",
              "      <td>0.453125</td>\n",
              "      <td>0.453125</td>\n",
              "      <td>0.450893</td>\n",
              "      <td>0.450893</td>\n",
              "      <td>0.357260</td>\n",
              "      <td>26432000</td>\n",
              "    </tr>\n",
              "    <tr>\n",
              "      <th>1980-12-17</th>\n",
              "      <td>0.462054</td>\n",
              "      <td>0.464286</td>\n",
              "      <td>0.462054</td>\n",
              "      <td>0.462054</td>\n",
              "      <td>0.366103</td>\n",
              "      <td>21610400</td>\n",
              "    </tr>\n",
              "    <tr>\n",
              "      <th>1980-12-18</th>\n",
              "      <td>0.475446</td>\n",
              "      <td>0.477679</td>\n",
              "      <td>0.475446</td>\n",
              "      <td>0.475446</td>\n",
              "      <td>0.376715</td>\n",
              "      <td>18362400</td>\n",
              "    </tr>\n",
              "  </tbody>\n",
              "</table>\n",
              "</div>\n",
              "      <button class=\"colab-df-convert\" onclick=\"convertToInteractive('df-c3e1fb90-d071-4d17-8e46-729891679278')\"\n",
              "              title=\"Convert this dataframe to an interactive table.\"\n",
              "              style=\"display:none;\">\n",
              "        \n",
              "  <svg xmlns=\"http://www.w3.org/2000/svg\" height=\"24px\"viewBox=\"0 0 24 24\"\n",
              "       width=\"24px\">\n",
              "    <path d=\"M0 0h24v24H0V0z\" fill=\"none\"/>\n",
              "    <path d=\"M18.56 5.44l.94 2.06.94-2.06 2.06-.94-2.06-.94-.94-2.06-.94 2.06-2.06.94zm-11 1L8.5 8.5l.94-2.06 2.06-.94-2.06-.94L8.5 2.5l-.94 2.06-2.06.94zm10 10l.94 2.06.94-2.06 2.06-.94-2.06-.94-.94-2.06-.94 2.06-2.06.94z\"/><path d=\"M17.41 7.96l-1.37-1.37c-.4-.4-.92-.59-1.43-.59-.52 0-1.04.2-1.43.59L10.3 9.45l-7.72 7.72c-.78.78-.78 2.05 0 2.83L4 21.41c.39.39.9.59 1.41.59.51 0 1.02-.2 1.41-.59l7.78-7.78 2.81-2.81c.8-.78.8-2.07 0-2.86zM5.41 20L4 18.59l7.72-7.72 1.47 1.35L5.41 20z\"/>\n",
              "  </svg>\n",
              "      </button>\n",
              "      \n",
              "  <style>\n",
              "    .colab-df-container {\n",
              "      display:flex;\n",
              "      flex-wrap:wrap;\n",
              "      gap: 12px;\n",
              "    }\n",
              "\n",
              "    .colab-df-convert {\n",
              "      background-color: #E8F0FE;\n",
              "      border: none;\n",
              "      border-radius: 50%;\n",
              "      cursor: pointer;\n",
              "      display: none;\n",
              "      fill: #1967D2;\n",
              "      height: 32px;\n",
              "      padding: 0 0 0 0;\n",
              "      width: 32px;\n",
              "    }\n",
              "\n",
              "    .colab-df-convert:hover {\n",
              "      background-color: #E2EBFA;\n",
              "      box-shadow: 0px 1px 2px rgba(60, 64, 67, 0.3), 0px 1px 3px 1px rgba(60, 64, 67, 0.15);\n",
              "      fill: #174EA6;\n",
              "    }\n",
              "\n",
              "    [theme=dark] .colab-df-convert {\n",
              "      background-color: #3B4455;\n",
              "      fill: #D2E3FC;\n",
              "    }\n",
              "\n",
              "    [theme=dark] .colab-df-convert:hover {\n",
              "      background-color: #434B5C;\n",
              "      box-shadow: 0px 1px 3px 1px rgba(0, 0, 0, 0.15);\n",
              "      filter: drop-shadow(0px 1px 2px rgba(0, 0, 0, 0.3));\n",
              "      fill: #FFFFFF;\n",
              "    }\n",
              "  </style>\n",
              "\n",
              "      <script>\n",
              "        const buttonEl =\n",
              "          document.querySelector('#df-c3e1fb90-d071-4d17-8e46-729891679278 button.colab-df-convert');\n",
              "        buttonEl.style.display =\n",
              "          google.colab.kernel.accessAllowed ? 'block' : 'none';\n",
              "\n",
              "        async function convertToInteractive(key) {\n",
              "          const element = document.querySelector('#df-c3e1fb90-d071-4d17-8e46-729891679278');\n",
              "          const dataTable =\n",
              "            await google.colab.kernel.invokeFunction('convertToInteractive',\n",
              "                                                     [key], {});\n",
              "          if (!dataTable) return;\n",
              "\n",
              "          const docLinkHtml = 'Like what you see? Visit the ' +\n",
              "            '<a target=\"_blank\" href=https://colab.research.google.com/notebooks/data_table.ipynb>data table notebook</a>'\n",
              "            + ' to learn more about interactive tables.';\n",
              "          element.innerHTML = '';\n",
              "          dataTable['output_type'] = 'display_data';\n",
              "          await google.colab.output.renderOutput(dataTable, element);\n",
              "          const docLink = document.createElement('div');\n",
              "          docLink.innerHTML = docLinkHtml;\n",
              "          element.appendChild(docLink);\n",
              "        }\n",
              "      </script>\n",
              "    </div>\n",
              "  </div>\n",
              "  "
            ],
            "text/plain": [
              "                Open      High       Low     Close  Adj Close     Volume\n",
              "Date                                                                    \n",
              "1980-12-12  0.513393  0.515625  0.513393  0.513393   0.406782  117258400\n",
              "1980-12-15  0.488839  0.488839  0.486607  0.486607   0.385558   43971200\n",
              "1980-12-16  0.453125  0.453125  0.450893  0.450893   0.357260   26432000\n",
              "1980-12-17  0.462054  0.464286  0.462054  0.462054   0.366103   21610400\n",
              "1980-12-18  0.475446  0.477679  0.475446  0.475446   0.376715   18362400"
            ]
          },
          "execution_count": 10,
          "metadata": {},
          "output_type": "execute_result"
        }
      ],
      "source": [
        "aapl.head()"
      ]
    },
    {
      "cell_type": "code",
      "execution_count": null,
      "metadata": {
        "colab": {
          "base_uri": "https://localhost:8080/",
          "height": 237
        },
        "id": "oFbTjmjNds7y",
        "outputId": "39956df5-4312-4a6d-bb43-0b2ea23a19a2"
      },
      "outputs": [
        {
          "data": {
            "text/html": [
              "\n",
              "  <div id=\"df-e6656e1b-2884-49f4-9e79-0334c82b9bff\">\n",
              "    <div class=\"colab-df-container\">\n",
              "      <div>\n",
              "<style scoped>\n",
              "    .dataframe tbody tr th:only-of-type {\n",
              "        vertical-align: middle;\n",
              "    }\n",
              "\n",
              "    .dataframe tbody tr th {\n",
              "        vertical-align: top;\n",
              "    }\n",
              "\n",
              "    .dataframe thead th {\n",
              "        text-align: right;\n",
              "    }\n",
              "</style>\n",
              "<table border=\"1\" class=\"dataframe\">\n",
              "  <thead>\n",
              "    <tr style=\"text-align: right;\">\n",
              "      <th></th>\n",
              "      <th>Open</th>\n",
              "      <th>High</th>\n",
              "      <th>Low</th>\n",
              "      <th>Close</th>\n",
              "      <th>Adj Close</th>\n",
              "      <th>Volume</th>\n",
              "    </tr>\n",
              "    <tr>\n",
              "      <th>Date</th>\n",
              "      <th></th>\n",
              "      <th></th>\n",
              "      <th></th>\n",
              "      <th></th>\n",
              "      <th></th>\n",
              "      <th></th>\n",
              "    </tr>\n",
              "  </thead>\n",
              "  <tbody>\n",
              "    <tr>\n",
              "      <th>1980-03-17</th>\n",
              "      <td>0.0</td>\n",
              "      <td>3.302083</td>\n",
              "      <td>3.125000</td>\n",
              "      <td>3.145833</td>\n",
              "      <td>3.145833</td>\n",
              "      <td>219600</td>\n",
              "    </tr>\n",
              "    <tr>\n",
              "      <th>1980-03-18</th>\n",
              "      <td>0.0</td>\n",
              "      <td>3.125000</td>\n",
              "      <td>2.937500</td>\n",
              "      <td>3.031250</td>\n",
              "      <td>3.031250</td>\n",
              "      <td>727200</td>\n",
              "    </tr>\n",
              "    <tr>\n",
              "      <th>1980-03-19</th>\n",
              "      <td>0.0</td>\n",
              "      <td>3.083333</td>\n",
              "      <td>3.020833</td>\n",
              "      <td>3.041667</td>\n",
              "      <td>3.041667</td>\n",
              "      <td>295200</td>\n",
              "    </tr>\n",
              "    <tr>\n",
              "      <th>1980-03-20</th>\n",
              "      <td>0.0</td>\n",
              "      <td>3.062500</td>\n",
              "      <td>3.010417</td>\n",
              "      <td>3.010417</td>\n",
              "      <td>3.010417</td>\n",
              "      <td>159600</td>\n",
              "    </tr>\n",
              "    <tr>\n",
              "      <th>1980-03-21</th>\n",
              "      <td>0.0</td>\n",
              "      <td>3.020833</td>\n",
              "      <td>2.906250</td>\n",
              "      <td>2.916667</td>\n",
              "      <td>2.916667</td>\n",
              "      <td>130800</td>\n",
              "    </tr>\n",
              "  </tbody>\n",
              "</table>\n",
              "</div>\n",
              "      <button class=\"colab-df-convert\" onclick=\"convertToInteractive('df-e6656e1b-2884-49f4-9e79-0334c82b9bff')\"\n",
              "              title=\"Convert this dataframe to an interactive table.\"\n",
              "              style=\"display:none;\">\n",
              "        \n",
              "  <svg xmlns=\"http://www.w3.org/2000/svg\" height=\"24px\"viewBox=\"0 0 24 24\"\n",
              "       width=\"24px\">\n",
              "    <path d=\"M0 0h24v24H0V0z\" fill=\"none\"/>\n",
              "    <path d=\"M18.56 5.44l.94 2.06.94-2.06 2.06-.94-2.06-.94-.94-2.06-.94 2.06-2.06.94zm-11 1L8.5 8.5l.94-2.06 2.06-.94-2.06-.94L8.5 2.5l-.94 2.06-2.06.94zm10 10l.94 2.06.94-2.06 2.06-.94-2.06-.94-.94-2.06-.94 2.06-2.06.94z\"/><path d=\"M17.41 7.96l-1.37-1.37c-.4-.4-.92-.59-1.43-.59-.52 0-1.04.2-1.43.59L10.3 9.45l-7.72 7.72c-.78.78-.78 2.05 0 2.83L4 21.41c.39.39.9.59 1.41.59.51 0 1.02-.2 1.41-.59l7.78-7.78 2.81-2.81c.8-.78.8-2.07 0-2.86zM5.41 20L4 18.59l7.72-7.72 1.47 1.35L5.41 20z\"/>\n",
              "  </svg>\n",
              "      </button>\n",
              "      \n",
              "  <style>\n",
              "    .colab-df-container {\n",
              "      display:flex;\n",
              "      flex-wrap:wrap;\n",
              "      gap: 12px;\n",
              "    }\n",
              "\n",
              "    .colab-df-convert {\n",
              "      background-color: #E8F0FE;\n",
              "      border: none;\n",
              "      border-radius: 50%;\n",
              "      cursor: pointer;\n",
              "      display: none;\n",
              "      fill: #1967D2;\n",
              "      height: 32px;\n",
              "      padding: 0 0 0 0;\n",
              "      width: 32px;\n",
              "    }\n",
              "\n",
              "    .colab-df-convert:hover {\n",
              "      background-color: #E2EBFA;\n",
              "      box-shadow: 0px 1px 2px rgba(60, 64, 67, 0.3), 0px 1px 3px 1px rgba(60, 64, 67, 0.15);\n",
              "      fill: #174EA6;\n",
              "    }\n",
              "\n",
              "    [theme=dark] .colab-df-convert {\n",
              "      background-color: #3B4455;\n",
              "      fill: #D2E3FC;\n",
              "    }\n",
              "\n",
              "    [theme=dark] .colab-df-convert:hover {\n",
              "      background-color: #434B5C;\n",
              "      box-shadow: 0px 1px 3px 1px rgba(0, 0, 0, 0.15);\n",
              "      filter: drop-shadow(0px 1px 2px rgba(0, 0, 0, 0.3));\n",
              "      fill: #FFFFFF;\n",
              "    }\n",
              "  </style>\n",
              "\n",
              "      <script>\n",
              "        const buttonEl =\n",
              "          document.querySelector('#df-e6656e1b-2884-49f4-9e79-0334c82b9bff button.colab-df-convert');\n",
              "        buttonEl.style.display =\n",
              "          google.colab.kernel.accessAllowed ? 'block' : 'none';\n",
              "\n",
              "        async function convertToInteractive(key) {\n",
              "          const element = document.querySelector('#df-e6656e1b-2884-49f4-9e79-0334c82b9bff');\n",
              "          const dataTable =\n",
              "            await google.colab.kernel.invokeFunction('convertToInteractive',\n",
              "                                                     [key], {});\n",
              "          if (!dataTable) return;\n",
              "\n",
              "          const docLinkHtml = 'Like what you see? Visit the ' +\n",
              "            '<a target=\"_blank\" href=https://colab.research.google.com/notebooks/data_table.ipynb>data table notebook</a>'\n",
              "            + ' to learn more about interactive tables.';\n",
              "          element.innerHTML = '';\n",
              "          dataTable['output_type'] = 'display_data';\n",
              "          await google.colab.output.renderOutput(dataTable, element);\n",
              "          const docLink = document.createElement('div');\n",
              "          docLink.innerHTML = docLinkHtml;\n",
              "          element.appendChild(docLink);\n",
              "        }\n",
              "      </script>\n",
              "    </div>\n",
              "  </div>\n",
              "  "
            ],
            "text/plain": [
              "            Open      High       Low     Close  Adj Close  Volume\n",
              "Date                                                             \n",
              "1980-03-17   0.0  3.302083  3.125000  3.145833   3.145833  219600\n",
              "1980-03-18   0.0  3.125000  2.937500  3.031250   3.031250  727200\n",
              "1980-03-19   0.0  3.083333  3.020833  3.041667   3.041667  295200\n",
              "1980-03-20   0.0  3.062500  3.010417  3.010417   3.010417  159600\n",
              "1980-03-21   0.0  3.020833  2.906250  2.916667   2.916667  130800"
            ]
          },
          "execution_count": 11,
          "metadata": {},
          "output_type": "execute_result"
        }
      ],
      "source": [
        "amd.head()"
      ]
    },
    {
      "attachments": {},
      "cell_type": "markdown",
      "metadata": {
        "id": "uOoEobuyfyho"
      },
      "source": [
        "### **Dimensi dataset**"
      ]
    },
    {
      "cell_type": "code",
      "execution_count": null,
      "metadata": {
        "colab": {
          "base_uri": "https://localhost:8080/"
        },
        "id": "Z9KyM7Ejff8U",
        "outputId": "e5d8a839-3286-4fcb-bfc3-db5b6b4494e9"
      },
      "outputs": [
        {
          "data": {
            "text/plain": [
              "(9909, 6)"
            ]
          },
          "execution_count": 12,
          "metadata": {},
          "output_type": "execute_result"
        }
      ],
      "source": [
        "aapl.shape"
      ]
    },
    {
      "cell_type": "code",
      "execution_count": null,
      "metadata": {
        "colab": {
          "base_uri": "https://localhost:8080/"
        },
        "id": "q9PZSTaifmmR",
        "outputId": "df93d456-487f-4a65-d6fc-90d9d223874f"
      },
      "outputs": [
        {
          "data": {
            "text/plain": [
              "(10098, 6)"
            ]
          },
          "execution_count": 13,
          "metadata": {},
          "output_type": "execute_result"
        }
      ],
      "source": [
        "amd.shape"
      ]
    },
    {
      "attachments": {},
      "cell_type": "markdown",
      "metadata": {
        "id": "-784CknPgC7-"
      },
      "source": [
        "Dataset Apple memiliki observasi 9909 dengan kolom sebanyak 7\n",
        "\n",
        "Dataset AMD memiliki observasi 10098 dengan kolom sebanyak 7"
      ]
    },
    {
      "cell_type": "code",
      "execution_count": null,
      "metadata": {
        "colab": {
          "base_uri": "https://localhost:8080/"
        },
        "id": "bwYLVA38eBwh",
        "outputId": "c406e874-7b0a-4c87-c5ca-ba1cae25b52c"
      },
      "outputs": [
        {
          "name": "stdout",
          "output_type": "stream",
          "text": [
            "<class 'pandas.core.frame.DataFrame'>\n",
            "DatetimeIndex: 9909 entries, 1980-12-12 to 2020-04-01\n",
            "Data columns (total 6 columns):\n",
            " #   Column     Non-Null Count  Dtype  \n",
            "---  ------     --------------  -----  \n",
            " 0   Open       9909 non-null   float64\n",
            " 1   High       9909 non-null   float64\n",
            " 2   Low        9909 non-null   float64\n",
            " 3   Close      9909 non-null   float64\n",
            " 4   Adj Close  9909 non-null   float64\n",
            " 5   Volume     9909 non-null   int64  \n",
            "dtypes: float64(5), int64(1)\n",
            "memory usage: 541.9 KB\n"
          ]
        }
      ],
      "source": [
        "aapl.info()"
      ]
    },
    {
      "cell_type": "code",
      "execution_count": null,
      "metadata": {
        "colab": {
          "base_uri": "https://localhost:8080/"
        },
        "id": "opMheE98eGgP",
        "outputId": "01c62f0e-01bb-4461-9b8a-f976c9a4451d"
      },
      "outputs": [
        {
          "name": "stdout",
          "output_type": "stream",
          "text": [
            "<class 'pandas.core.frame.DataFrame'>\n",
            "DatetimeIndex: 10098 entries, 1980-03-17 to 2020-04-01\n",
            "Data columns (total 6 columns):\n",
            " #   Column     Non-Null Count  Dtype  \n",
            "---  ------     --------------  -----  \n",
            " 0   Open       10098 non-null  float64\n",
            " 1   High       10098 non-null  float64\n",
            " 2   Low        10098 non-null  float64\n",
            " 3   Close      10098 non-null  float64\n",
            " 4   Adj Close  10098 non-null  float64\n",
            " 5   Volume     10098 non-null  int64  \n",
            "dtypes: float64(5), int64(1)\n",
            "memory usage: 552.2 KB\n"
          ]
        }
      ],
      "source": [
        "amd.info()"
      ]
    },
    {
      "attachments": {},
      "cell_type": "markdown",
      "metadata": {
        "id": "PPPsW1f7SHGD"
      },
      "source": [
        "Dataset Apple dan AMD ini sama-sama memiliki 6 fitur dan terdiri dari 5 fload dan 1 integer. Fitur pada dataset ini sudah memiliki tipe data yang sesuai."
      ]
    },
    {
      "cell_type": "code",
      "execution_count": null,
      "metadata": {
        "colab": {
          "base_uri": "https://localhost:8080/"
        },
        "id": "VrbMF4PpmT4Y",
        "outputId": "27135a4f-d057-4970-d667-41ae3d83f397"
      },
      "outputs": [
        {
          "name": "stdout",
          "output_type": "stream",
          "text": [
            "Missing value in Apple stock dataframe: Open         0\n",
            "High         0\n",
            "Low          0\n",
            "Close        0\n",
            "Adj Close    0\n",
            "Volume       0\n",
            "dtype: int64\n"
          ]
        }
      ],
      "source": [
        "miss_aapl = aapl.isnull().sum()\n",
        "print(\"Missing value in Apple stock dataframe:\", miss_aapl)"
      ]
    },
    {
      "cell_type": "code",
      "execution_count": null,
      "metadata": {
        "colab": {
          "base_uri": "https://localhost:8080/"
        },
        "id": "MhacULwOmmXE",
        "outputId": "8acb30ba-e4ff-4459-a26b-dffa79c01935"
      },
      "outputs": [
        {
          "name": "stdout",
          "output_type": "stream",
          "text": [
            "Missing value in AMD stock dataframe: Open         0\n",
            "High         0\n",
            "Low          0\n",
            "Close        0\n",
            "Adj Close    0\n",
            "Volume       0\n",
            "dtype: int64\n"
          ]
        }
      ],
      "source": [
        "miss_amd = amd.isnull().sum()\n",
        "print(\"Missing value in AMD stock dataframe:\", miss_amd)"
      ]
    },
    {
      "attachments": {},
      "cell_type": "markdown",
      "metadata": {
        "id": "-HeHEAePSU8P"
      },
      "source": [
        "Pada dataset Apple dan AMD tidak terdapat missing value."
      ]
    },
    {
      "cell_type": "code",
      "execution_count": null,
      "metadata": {
        "colab": {
          "base_uri": "https://localhost:8080/"
        },
        "id": "fdw58vbnmZsx",
        "outputId": "79206cb8-9390-4050-c71d-f4923fc0382c"
      },
      "outputs": [
        {
          "name": "stdout",
          "output_type": "stream",
          "text": [
            "Duplicated value in Apple stock dataframe: 0\n"
          ]
        }
      ],
      "source": [
        "duplicated_aapl = aapl.duplicated().sum()\n",
        "print(\"Duplicated value in Apple stock dataframe:\", duplicated_aapl)"
      ]
    },
    {
      "cell_type": "code",
      "execution_count": null,
      "metadata": {
        "colab": {
          "base_uri": "https://localhost:8080/"
        },
        "id": "MzULCTtjmmgq",
        "outputId": "49e5ed2c-3111-4e24-bc50-5eb6bc6cf671"
      },
      "outputs": [
        {
          "name": "stdout",
          "output_type": "stream",
          "text": [
            "Duplicated value in AMD stock dataframe: 0\n"
          ]
        }
      ],
      "source": [
        "duplicated_amd = amd.duplicated().sum()\n",
        "print(\"Duplicated value in AMD stock dataframe:\", duplicated_amd)"
      ]
    },
    {
      "attachments": {},
      "cell_type": "markdown",
      "metadata": {
        "id": "0JgVQo_FSiw9"
      },
      "source": [
        "Pada datase Apple dan AMD tidak terdapat duplicated value."
      ]
    },
    {
      "cell_type": "code",
      "execution_count": null,
      "metadata": {
        "colab": {
          "base_uri": "https://localhost:8080/",
          "height": 300
        },
        "id": "Wbk8Gie41p8y",
        "outputId": "0a41fe13-09b4-43a4-d3bf-a2b313859161"
      },
      "outputs": [
        {
          "data": {
            "text/html": [
              "\n",
              "  <div id=\"df-5b17cb27-ac8b-448d-8220-126938196ea7\">\n",
              "    <div class=\"colab-df-container\">\n",
              "      <div>\n",
              "<style scoped>\n",
              "    .dataframe tbody tr th:only-of-type {\n",
              "        vertical-align: middle;\n",
              "    }\n",
              "\n",
              "    .dataframe tbody tr th {\n",
              "        vertical-align: top;\n",
              "    }\n",
              "\n",
              "    .dataframe thead th {\n",
              "        text-align: right;\n",
              "    }\n",
              "</style>\n",
              "<table border=\"1\" class=\"dataframe\">\n",
              "  <thead>\n",
              "    <tr style=\"text-align: right;\">\n",
              "      <th></th>\n",
              "      <th>Open</th>\n",
              "      <th>High</th>\n",
              "      <th>Low</th>\n",
              "      <th>Close</th>\n",
              "      <th>Adj Close</th>\n",
              "      <th>Volume</th>\n",
              "    </tr>\n",
              "  </thead>\n",
              "  <tbody>\n",
              "    <tr>\n",
              "      <th>count</th>\n",
              "      <td>9909.000000</td>\n",
              "      <td>9909.000000</td>\n",
              "      <td>9909.000000</td>\n",
              "      <td>9909.000000</td>\n",
              "      <td>9909.000000</td>\n",
              "      <td>9.909000e+03</td>\n",
              "    </tr>\n",
              "    <tr>\n",
              "      <th>mean</th>\n",
              "      <td>32.606849</td>\n",
              "      <td>32.936079</td>\n",
              "      <td>32.277560</td>\n",
              "      <td>32.618030</td>\n",
              "      <td>30.576570</td>\n",
              "      <td>8.582916e+07</td>\n",
              "    </tr>\n",
              "    <tr>\n",
              "      <th>std</th>\n",
              "      <td>58.415759</td>\n",
              "      <td>59.001576</td>\n",
              "      <td>57.883037</td>\n",
              "      <td>58.471899</td>\n",
              "      <td>56.746275</td>\n",
              "      <td>8.597195e+07</td>\n",
              "    </tr>\n",
              "    <tr>\n",
              "      <th>min</th>\n",
              "      <td>0.198661</td>\n",
              "      <td>0.198661</td>\n",
              "      <td>0.196429</td>\n",
              "      <td>0.196429</td>\n",
              "      <td>0.155638</td>\n",
              "      <td>3.472000e+05</td>\n",
              "    </tr>\n",
              "    <tr>\n",
              "      <th>25%</th>\n",
              "      <td>1.071429</td>\n",
              "      <td>1.089286</td>\n",
              "      <td>1.048571</td>\n",
              "      <td>1.071429</td>\n",
              "      <td>0.917643</td>\n",
              "      <td>3.304230e+07</td>\n",
              "    </tr>\n",
              "    <tr>\n",
              "      <th>50%</th>\n",
              "      <td>1.729286</td>\n",
              "      <td>1.758929</td>\n",
              "      <td>1.696429</td>\n",
              "      <td>1.732143</td>\n",
              "      <td>1.466154</td>\n",
              "      <td>5.766490e+07</td>\n",
              "    </tr>\n",
              "    <tr>\n",
              "      <th>75%</th>\n",
              "      <td>35.799999</td>\n",
              "      <td>36.265713</td>\n",
              "      <td>35.328571</td>\n",
              "      <td>35.761429</td>\n",
              "      <td>31.042374</td>\n",
              "      <td>1.069992e+08</td>\n",
              "    </tr>\n",
              "    <tr>\n",
              "      <th>max</th>\n",
              "      <td>324.739990</td>\n",
              "      <td>327.850006</td>\n",
              "      <td>323.350006</td>\n",
              "      <td>327.200012</td>\n",
              "      <td>327.200012</td>\n",
              "      <td>1.855410e+09</td>\n",
              "    </tr>\n",
              "  </tbody>\n",
              "</table>\n",
              "</div>\n",
              "      <button class=\"colab-df-convert\" onclick=\"convertToInteractive('df-5b17cb27-ac8b-448d-8220-126938196ea7')\"\n",
              "              title=\"Convert this dataframe to an interactive table.\"\n",
              "              style=\"display:none;\">\n",
              "        \n",
              "  <svg xmlns=\"http://www.w3.org/2000/svg\" height=\"24px\"viewBox=\"0 0 24 24\"\n",
              "       width=\"24px\">\n",
              "    <path d=\"M0 0h24v24H0V0z\" fill=\"none\"/>\n",
              "    <path d=\"M18.56 5.44l.94 2.06.94-2.06 2.06-.94-2.06-.94-.94-2.06-.94 2.06-2.06.94zm-11 1L8.5 8.5l.94-2.06 2.06-.94-2.06-.94L8.5 2.5l-.94 2.06-2.06.94zm10 10l.94 2.06.94-2.06 2.06-.94-2.06-.94-.94-2.06-.94 2.06-2.06.94z\"/><path d=\"M17.41 7.96l-1.37-1.37c-.4-.4-.92-.59-1.43-.59-.52 0-1.04.2-1.43.59L10.3 9.45l-7.72 7.72c-.78.78-.78 2.05 0 2.83L4 21.41c.39.39.9.59 1.41.59.51 0 1.02-.2 1.41-.59l7.78-7.78 2.81-2.81c.8-.78.8-2.07 0-2.86zM5.41 20L4 18.59l7.72-7.72 1.47 1.35L5.41 20z\"/>\n",
              "  </svg>\n",
              "      </button>\n",
              "      \n",
              "  <style>\n",
              "    .colab-df-container {\n",
              "      display:flex;\n",
              "      flex-wrap:wrap;\n",
              "      gap: 12px;\n",
              "    }\n",
              "\n",
              "    .colab-df-convert {\n",
              "      background-color: #E8F0FE;\n",
              "      border: none;\n",
              "      border-radius: 50%;\n",
              "      cursor: pointer;\n",
              "      display: none;\n",
              "      fill: #1967D2;\n",
              "      height: 32px;\n",
              "      padding: 0 0 0 0;\n",
              "      width: 32px;\n",
              "    }\n",
              "\n",
              "    .colab-df-convert:hover {\n",
              "      background-color: #E2EBFA;\n",
              "      box-shadow: 0px 1px 2px rgba(60, 64, 67, 0.3), 0px 1px 3px 1px rgba(60, 64, 67, 0.15);\n",
              "      fill: #174EA6;\n",
              "    }\n",
              "\n",
              "    [theme=dark] .colab-df-convert {\n",
              "      background-color: #3B4455;\n",
              "      fill: #D2E3FC;\n",
              "    }\n",
              "\n",
              "    [theme=dark] .colab-df-convert:hover {\n",
              "      background-color: #434B5C;\n",
              "      box-shadow: 0px 1px 3px 1px rgba(0, 0, 0, 0.15);\n",
              "      filter: drop-shadow(0px 1px 2px rgba(0, 0, 0, 0.3));\n",
              "      fill: #FFFFFF;\n",
              "    }\n",
              "  </style>\n",
              "\n",
              "      <script>\n",
              "        const buttonEl =\n",
              "          document.querySelector('#df-5b17cb27-ac8b-448d-8220-126938196ea7 button.colab-df-convert');\n",
              "        buttonEl.style.display =\n",
              "          google.colab.kernel.accessAllowed ? 'block' : 'none';\n",
              "\n",
              "        async function convertToInteractive(key) {\n",
              "          const element = document.querySelector('#df-5b17cb27-ac8b-448d-8220-126938196ea7');\n",
              "          const dataTable =\n",
              "            await google.colab.kernel.invokeFunction('convertToInteractive',\n",
              "                                                     [key], {});\n",
              "          if (!dataTable) return;\n",
              "\n",
              "          const docLinkHtml = 'Like what you see? Visit the ' +\n",
              "            '<a target=\"_blank\" href=https://colab.research.google.com/notebooks/data_table.ipynb>data table notebook</a>'\n",
              "            + ' to learn more about interactive tables.';\n",
              "          element.innerHTML = '';\n",
              "          dataTable['output_type'] = 'display_data';\n",
              "          await google.colab.output.renderOutput(dataTable, element);\n",
              "          const docLink = document.createElement('div');\n",
              "          docLink.innerHTML = docLinkHtml;\n",
              "          element.appendChild(docLink);\n",
              "        }\n",
              "      </script>\n",
              "    </div>\n",
              "  </div>\n",
              "  "
            ],
            "text/plain": [
              "              Open         High          Low        Close    Adj Close  \\\n",
              "count  9909.000000  9909.000000  9909.000000  9909.000000  9909.000000   \n",
              "mean     32.606849    32.936079    32.277560    32.618030    30.576570   \n",
              "std      58.415759    59.001576    57.883037    58.471899    56.746275   \n",
              "min       0.198661     0.198661     0.196429     0.196429     0.155638   \n",
              "25%       1.071429     1.089286     1.048571     1.071429     0.917643   \n",
              "50%       1.729286     1.758929     1.696429     1.732143     1.466154   \n",
              "75%      35.799999    36.265713    35.328571    35.761429    31.042374   \n",
              "max     324.739990   327.850006   323.350006   327.200012   327.200012   \n",
              "\n",
              "             Volume  \n",
              "count  9.909000e+03  \n",
              "mean   8.582916e+07  \n",
              "std    8.597195e+07  \n",
              "min    3.472000e+05  \n",
              "25%    3.304230e+07  \n",
              "50%    5.766490e+07  \n",
              "75%    1.069992e+08  \n",
              "max    1.855410e+09  "
            ]
          },
          "execution_count": 20,
          "metadata": {},
          "output_type": "execute_result"
        }
      ],
      "source": [
        "aapl.describe()"
      ]
    },
    {
      "cell_type": "code",
      "execution_count": null,
      "metadata": {
        "colab": {
          "base_uri": "https://localhost:8080/",
          "height": 300
        },
        "id": "AD1T2H5A1uRD",
        "outputId": "8afc923b-e633-48fb-a73b-bfe4ee7dd7c3"
      },
      "outputs": [
        {
          "data": {
            "text/html": [
              "\n",
              "  <div id=\"df-829a6d17-0054-4f41-8914-e7a83702e165\">\n",
              "    <div class=\"colab-df-container\">\n",
              "      <div>\n",
              "<style scoped>\n",
              "    .dataframe tbody tr th:only-of-type {\n",
              "        vertical-align: middle;\n",
              "    }\n",
              "\n",
              "    .dataframe tbody tr th {\n",
              "        vertical-align: top;\n",
              "    }\n",
              "\n",
              "    .dataframe thead th {\n",
              "        text-align: right;\n",
              "    }\n",
              "</style>\n",
              "<table border=\"1\" class=\"dataframe\">\n",
              "  <thead>\n",
              "    <tr style=\"text-align: right;\">\n",
              "      <th></th>\n",
              "      <th>Open</th>\n",
              "      <th>High</th>\n",
              "      <th>Low</th>\n",
              "      <th>Close</th>\n",
              "      <th>Adj Close</th>\n",
              "      <th>Volume</th>\n",
              "    </tr>\n",
              "  </thead>\n",
              "  <tbody>\n",
              "    <tr>\n",
              "      <th>count</th>\n",
              "      <td>10098.000000</td>\n",
              "      <td>10098.000000</td>\n",
              "      <td>10098.000000</td>\n",
              "      <td>10098.000000</td>\n",
              "      <td>10098.000000</td>\n",
              "      <td>1.009800e+04</td>\n",
              "    </tr>\n",
              "    <tr>\n",
              "      <th>mean</th>\n",
              "      <td>10.889136</td>\n",
              "      <td>11.462153</td>\n",
              "      <td>10.958702</td>\n",
              "      <td>11.210802</td>\n",
              "      <td>11.210802</td>\n",
              "      <td>1.451625e+07</td>\n",
              "    </tr>\n",
              "    <tr>\n",
              "      <th>std</th>\n",
              "      <td>8.615288</td>\n",
              "      <td>8.475056</td>\n",
              "      <td>8.077069</td>\n",
              "      <td>8.283645</td>\n",
              "      <td>8.283645</td>\n",
              "      <td>2.396199e+07</td>\n",
              "    </tr>\n",
              "    <tr>\n",
              "      <th>min</th>\n",
              "      <td>0.000000</td>\n",
              "      <td>1.690000</td>\n",
              "      <td>1.610000</td>\n",
              "      <td>1.620000</td>\n",
              "      <td>1.620000</td>\n",
              "      <td>0.000000e+00</td>\n",
              "    </tr>\n",
              "    <tr>\n",
              "      <th>25%</th>\n",
              "      <td>4.562500</td>\n",
              "      <td>5.062500</td>\n",
              "      <td>4.812500</td>\n",
              "      <td>4.937500</td>\n",
              "      <td>4.937500</td>\n",
              "      <td>1.098600e+06</td>\n",
              "    </tr>\n",
              "    <tr>\n",
              "      <th>50%</th>\n",
              "      <td>9.062500</td>\n",
              "      <td>9.280625</td>\n",
              "      <td>8.875000</td>\n",
              "      <td>9.062500</td>\n",
              "      <td>9.062500</td>\n",
              "      <td>5.518500e+06</td>\n",
              "    </tr>\n",
              "    <tr>\n",
              "      <th>75%</th>\n",
              "      <td>14.747500</td>\n",
              "      <td>15.000000</td>\n",
              "      <td>14.435625</td>\n",
              "      <td>14.707500</td>\n",
              "      <td>14.707500</td>\n",
              "      <td>1.742722e+07</td>\n",
              "    </tr>\n",
              "    <tr>\n",
              "      <th>max</th>\n",
              "      <td>58.439999</td>\n",
              "      <td>59.270000</td>\n",
              "      <td>57.509998</td>\n",
              "      <td>58.900002</td>\n",
              "      <td>58.900002</td>\n",
              "      <td>3.250584e+08</td>\n",
              "    </tr>\n",
              "  </tbody>\n",
              "</table>\n",
              "</div>\n",
              "      <button class=\"colab-df-convert\" onclick=\"convertToInteractive('df-829a6d17-0054-4f41-8914-e7a83702e165')\"\n",
              "              title=\"Convert this dataframe to an interactive table.\"\n",
              "              style=\"display:none;\">\n",
              "        \n",
              "  <svg xmlns=\"http://www.w3.org/2000/svg\" height=\"24px\"viewBox=\"0 0 24 24\"\n",
              "       width=\"24px\">\n",
              "    <path d=\"M0 0h24v24H0V0z\" fill=\"none\"/>\n",
              "    <path d=\"M18.56 5.44l.94 2.06.94-2.06 2.06-.94-2.06-.94-.94-2.06-.94 2.06-2.06.94zm-11 1L8.5 8.5l.94-2.06 2.06-.94-2.06-.94L8.5 2.5l-.94 2.06-2.06.94zm10 10l.94 2.06.94-2.06 2.06-.94-2.06-.94-.94-2.06-.94 2.06-2.06.94z\"/><path d=\"M17.41 7.96l-1.37-1.37c-.4-.4-.92-.59-1.43-.59-.52 0-1.04.2-1.43.59L10.3 9.45l-7.72 7.72c-.78.78-.78 2.05 0 2.83L4 21.41c.39.39.9.59 1.41.59.51 0 1.02-.2 1.41-.59l7.78-7.78 2.81-2.81c.8-.78.8-2.07 0-2.86zM5.41 20L4 18.59l7.72-7.72 1.47 1.35L5.41 20z\"/>\n",
              "  </svg>\n",
              "      </button>\n",
              "      \n",
              "  <style>\n",
              "    .colab-df-container {\n",
              "      display:flex;\n",
              "      flex-wrap:wrap;\n",
              "      gap: 12px;\n",
              "    }\n",
              "\n",
              "    .colab-df-convert {\n",
              "      background-color: #E8F0FE;\n",
              "      border: none;\n",
              "      border-radius: 50%;\n",
              "      cursor: pointer;\n",
              "      display: none;\n",
              "      fill: #1967D2;\n",
              "      height: 32px;\n",
              "      padding: 0 0 0 0;\n",
              "      width: 32px;\n",
              "    }\n",
              "\n",
              "    .colab-df-convert:hover {\n",
              "      background-color: #E2EBFA;\n",
              "      box-shadow: 0px 1px 2px rgba(60, 64, 67, 0.3), 0px 1px 3px 1px rgba(60, 64, 67, 0.15);\n",
              "      fill: #174EA6;\n",
              "    }\n",
              "\n",
              "    [theme=dark] .colab-df-convert {\n",
              "      background-color: #3B4455;\n",
              "      fill: #D2E3FC;\n",
              "    }\n",
              "\n",
              "    [theme=dark] .colab-df-convert:hover {\n",
              "      background-color: #434B5C;\n",
              "      box-shadow: 0px 1px 3px 1px rgba(0, 0, 0, 0.15);\n",
              "      filter: drop-shadow(0px 1px 2px rgba(0, 0, 0, 0.3));\n",
              "      fill: #FFFFFF;\n",
              "    }\n",
              "  </style>\n",
              "\n",
              "      <script>\n",
              "        const buttonEl =\n",
              "          document.querySelector('#df-829a6d17-0054-4f41-8914-e7a83702e165 button.colab-df-convert');\n",
              "        buttonEl.style.display =\n",
              "          google.colab.kernel.accessAllowed ? 'block' : 'none';\n",
              "\n",
              "        async function convertToInteractive(key) {\n",
              "          const element = document.querySelector('#df-829a6d17-0054-4f41-8914-e7a83702e165');\n",
              "          const dataTable =\n",
              "            await google.colab.kernel.invokeFunction('convertToInteractive',\n",
              "                                                     [key], {});\n",
              "          if (!dataTable) return;\n",
              "\n",
              "          const docLinkHtml = 'Like what you see? Visit the ' +\n",
              "            '<a target=\"_blank\" href=https://colab.research.google.com/notebooks/data_table.ipynb>data table notebook</a>'\n",
              "            + ' to learn more about interactive tables.';\n",
              "          element.innerHTML = '';\n",
              "          dataTable['output_type'] = 'display_data';\n",
              "          await google.colab.output.renderOutput(dataTable, element);\n",
              "          const docLink = document.createElement('div');\n",
              "          docLink.innerHTML = docLinkHtml;\n",
              "          element.appendChild(docLink);\n",
              "        }\n",
              "      </script>\n",
              "    </div>\n",
              "  </div>\n",
              "  "
            ],
            "text/plain": [
              "               Open          High           Low         Close     Adj Close  \\\n",
              "count  10098.000000  10098.000000  10098.000000  10098.000000  10098.000000   \n",
              "mean      10.889136     11.462153     10.958702     11.210802     11.210802   \n",
              "std        8.615288      8.475056      8.077069      8.283645      8.283645   \n",
              "min        0.000000      1.690000      1.610000      1.620000      1.620000   \n",
              "25%        4.562500      5.062500      4.812500      4.937500      4.937500   \n",
              "50%        9.062500      9.280625      8.875000      9.062500      9.062500   \n",
              "75%       14.747500     15.000000     14.435625     14.707500     14.707500   \n",
              "max       58.439999     59.270000     57.509998     58.900002     58.900002   \n",
              "\n",
              "             Volume  \n",
              "count  1.009800e+04  \n",
              "mean   1.451625e+07  \n",
              "std    2.396199e+07  \n",
              "min    0.000000e+00  \n",
              "25%    1.098600e+06  \n",
              "50%    5.518500e+06  \n",
              "75%    1.742722e+07  \n",
              "max    3.250584e+08  "
            ]
          },
          "execution_count": 21,
          "metadata": {},
          "output_type": "execute_result"
        }
      ],
      "source": [
        "amd.describe()"
      ]
    },
    {
      "attachments": {},
      "cell_type": "markdown",
      "metadata": {
        "id": "qTnSdjk71wEV"
      },
      "source": [
        "Berikut adalah ringkasan statistik untuk masing-masing dataset"
      ]
    },
    {
      "attachments": {},
      "cell_type": "markdown",
      "metadata": {
        "id": "zJ_YIR7sUPxA"
      },
      "source": [
        "Tidak terdapat problem pada data ini"
      ]
    },
    {
      "attachments": {},
      "cell_type": "markdown",
      "metadata": {
        "id": "RCkr3eofki8K"
      },
      "source": [
        "## **Praposes Data**"
      ]
    },
    {
      "attachments": {},
      "cell_type": "markdown",
      "metadata": {
        "id": "11zb4m1uZUiM"
      },
      "source": [
        "Pada tahap praposes ini, fitur yang akan dipertahankan hanyalah Date dan Close sehingga fitur sisanya tidak digunakan."
      ]
    },
    {
      "cell_type": "code",
      "execution_count": null,
      "metadata": {
        "colab": {
          "base_uri": "https://localhost:8080/",
          "height": 237
        },
        "id": "-QP4HhfWheml",
        "outputId": "e3da1f3c-025a-4481-bf1a-ca59c9ad0bb1"
      },
      "outputs": [
        {
          "data": {
            "text/html": [
              "\n",
              "  <div id=\"df-68521f73-a2cd-4244-a5f3-5b34c4731fd9\">\n",
              "    <div class=\"colab-df-container\">\n",
              "      <div>\n",
              "<style scoped>\n",
              "    .dataframe tbody tr th:only-of-type {\n",
              "        vertical-align: middle;\n",
              "    }\n",
              "\n",
              "    .dataframe tbody tr th {\n",
              "        vertical-align: top;\n",
              "    }\n",
              "\n",
              "    .dataframe thead th {\n",
              "        text-align: right;\n",
              "    }\n",
              "</style>\n",
              "<table border=\"1\" class=\"dataframe\">\n",
              "  <thead>\n",
              "    <tr style=\"text-align: right;\">\n",
              "      <th></th>\n",
              "      <th>Price</th>\n",
              "    </tr>\n",
              "    <tr>\n",
              "      <th>Date</th>\n",
              "      <th></th>\n",
              "    </tr>\n",
              "  </thead>\n",
              "  <tbody>\n",
              "    <tr>\n",
              "      <th>1980-12-12</th>\n",
              "      <td>0.513393</td>\n",
              "    </tr>\n",
              "    <tr>\n",
              "      <th>1980-12-15</th>\n",
              "      <td>0.486607</td>\n",
              "    </tr>\n",
              "    <tr>\n",
              "      <th>1980-12-16</th>\n",
              "      <td>0.450893</td>\n",
              "    </tr>\n",
              "    <tr>\n",
              "      <th>1980-12-17</th>\n",
              "      <td>0.462054</td>\n",
              "    </tr>\n",
              "    <tr>\n",
              "      <th>1980-12-18</th>\n",
              "      <td>0.475446</td>\n",
              "    </tr>\n",
              "  </tbody>\n",
              "</table>\n",
              "</div>\n",
              "      <button class=\"colab-df-convert\" onclick=\"convertToInteractive('df-68521f73-a2cd-4244-a5f3-5b34c4731fd9')\"\n",
              "              title=\"Convert this dataframe to an interactive table.\"\n",
              "              style=\"display:none;\">\n",
              "        \n",
              "  <svg xmlns=\"http://www.w3.org/2000/svg\" height=\"24px\"viewBox=\"0 0 24 24\"\n",
              "       width=\"24px\">\n",
              "    <path d=\"M0 0h24v24H0V0z\" fill=\"none\"/>\n",
              "    <path d=\"M18.56 5.44l.94 2.06.94-2.06 2.06-.94-2.06-.94-.94-2.06-.94 2.06-2.06.94zm-11 1L8.5 8.5l.94-2.06 2.06-.94-2.06-.94L8.5 2.5l-.94 2.06-2.06.94zm10 10l.94 2.06.94-2.06 2.06-.94-2.06-.94-.94-2.06-.94 2.06-2.06.94z\"/><path d=\"M17.41 7.96l-1.37-1.37c-.4-.4-.92-.59-1.43-.59-.52 0-1.04.2-1.43.59L10.3 9.45l-7.72 7.72c-.78.78-.78 2.05 0 2.83L4 21.41c.39.39.9.59 1.41.59.51 0 1.02-.2 1.41-.59l7.78-7.78 2.81-2.81c.8-.78.8-2.07 0-2.86zM5.41 20L4 18.59l7.72-7.72 1.47 1.35L5.41 20z\"/>\n",
              "  </svg>\n",
              "      </button>\n",
              "      \n",
              "  <style>\n",
              "    .colab-df-container {\n",
              "      display:flex;\n",
              "      flex-wrap:wrap;\n",
              "      gap: 12px;\n",
              "    }\n",
              "\n",
              "    .colab-df-convert {\n",
              "      background-color: #E8F0FE;\n",
              "      border: none;\n",
              "      border-radius: 50%;\n",
              "      cursor: pointer;\n",
              "      display: none;\n",
              "      fill: #1967D2;\n",
              "      height: 32px;\n",
              "      padding: 0 0 0 0;\n",
              "      width: 32px;\n",
              "    }\n",
              "\n",
              "    .colab-df-convert:hover {\n",
              "      background-color: #E2EBFA;\n",
              "      box-shadow: 0px 1px 2px rgba(60, 64, 67, 0.3), 0px 1px 3px 1px rgba(60, 64, 67, 0.15);\n",
              "      fill: #174EA6;\n",
              "    }\n",
              "\n",
              "    [theme=dark] .colab-df-convert {\n",
              "      background-color: #3B4455;\n",
              "      fill: #D2E3FC;\n",
              "    }\n",
              "\n",
              "    [theme=dark] .colab-df-convert:hover {\n",
              "      background-color: #434B5C;\n",
              "      box-shadow: 0px 1px 3px 1px rgba(0, 0, 0, 0.15);\n",
              "      filter: drop-shadow(0px 1px 2px rgba(0, 0, 0, 0.3));\n",
              "      fill: #FFFFFF;\n",
              "    }\n",
              "  </style>\n",
              "\n",
              "      <script>\n",
              "        const buttonEl =\n",
              "          document.querySelector('#df-68521f73-a2cd-4244-a5f3-5b34c4731fd9 button.colab-df-convert');\n",
              "        buttonEl.style.display =\n",
              "          google.colab.kernel.accessAllowed ? 'block' : 'none';\n",
              "\n",
              "        async function convertToInteractive(key) {\n",
              "          const element = document.querySelector('#df-68521f73-a2cd-4244-a5f3-5b34c4731fd9');\n",
              "          const dataTable =\n",
              "            await google.colab.kernel.invokeFunction('convertToInteractive',\n",
              "                                                     [key], {});\n",
              "          if (!dataTable) return;\n",
              "\n",
              "          const docLinkHtml = 'Like what you see? Visit the ' +\n",
              "            '<a target=\"_blank\" href=https://colab.research.google.com/notebooks/data_table.ipynb>data table notebook</a>'\n",
              "            + ' to learn more about interactive tables.';\n",
              "          element.innerHTML = '';\n",
              "          dataTable['output_type'] = 'display_data';\n",
              "          await google.colab.output.renderOutput(dataTable, element);\n",
              "          const docLink = document.createElement('div');\n",
              "          docLink.innerHTML = docLinkHtml;\n",
              "          element.appendChild(docLink);\n",
              "        }\n",
              "      </script>\n",
              "    </div>\n",
              "  </div>\n",
              "  "
            ],
            "text/plain": [
              "               Price\n",
              "Date                \n",
              "1980-12-12  0.513393\n",
              "1980-12-15  0.486607\n",
              "1980-12-16  0.450893\n",
              "1980-12-17  0.462054\n",
              "1980-12-18  0.475446"
            ]
          },
          "execution_count": 22,
          "metadata": {},
          "output_type": "execute_result"
        }
      ],
      "source": [
        "aapl_price=pd.DataFrame(aapl['Close']).rename(columns={'Close':'Price'})\n",
        "aapl_price.head(5)"
      ]
    },
    {
      "cell_type": "code",
      "execution_count": null,
      "metadata": {
        "colab": {
          "base_uri": "https://localhost:8080/",
          "height": 237
        },
        "id": "fSq-4_6umJnp",
        "outputId": "2a5679ae-0cda-43e0-d57e-d39cff66129f"
      },
      "outputs": [
        {
          "data": {
            "text/html": [
              "\n",
              "  <div id=\"df-42753719-0d0f-452a-a5f8-123b7286fc57\">\n",
              "    <div class=\"colab-df-container\">\n",
              "      <div>\n",
              "<style scoped>\n",
              "    .dataframe tbody tr th:only-of-type {\n",
              "        vertical-align: middle;\n",
              "    }\n",
              "\n",
              "    .dataframe tbody tr th {\n",
              "        vertical-align: top;\n",
              "    }\n",
              "\n",
              "    .dataframe thead th {\n",
              "        text-align: right;\n",
              "    }\n",
              "</style>\n",
              "<table border=\"1\" class=\"dataframe\">\n",
              "  <thead>\n",
              "    <tr style=\"text-align: right;\">\n",
              "      <th></th>\n",
              "      <th>Price</th>\n",
              "    </tr>\n",
              "    <tr>\n",
              "      <th>Date</th>\n",
              "      <th></th>\n",
              "    </tr>\n",
              "  </thead>\n",
              "  <tbody>\n",
              "    <tr>\n",
              "      <th>1980-03-17</th>\n",
              "      <td>3.145833</td>\n",
              "    </tr>\n",
              "    <tr>\n",
              "      <th>1980-03-18</th>\n",
              "      <td>3.031250</td>\n",
              "    </tr>\n",
              "    <tr>\n",
              "      <th>1980-03-19</th>\n",
              "      <td>3.041667</td>\n",
              "    </tr>\n",
              "    <tr>\n",
              "      <th>1980-03-20</th>\n",
              "      <td>3.010417</td>\n",
              "    </tr>\n",
              "    <tr>\n",
              "      <th>1980-03-21</th>\n",
              "      <td>2.916667</td>\n",
              "    </tr>\n",
              "  </tbody>\n",
              "</table>\n",
              "</div>\n",
              "      <button class=\"colab-df-convert\" onclick=\"convertToInteractive('df-42753719-0d0f-452a-a5f8-123b7286fc57')\"\n",
              "              title=\"Convert this dataframe to an interactive table.\"\n",
              "              style=\"display:none;\">\n",
              "        \n",
              "  <svg xmlns=\"http://www.w3.org/2000/svg\" height=\"24px\"viewBox=\"0 0 24 24\"\n",
              "       width=\"24px\">\n",
              "    <path d=\"M0 0h24v24H0V0z\" fill=\"none\"/>\n",
              "    <path d=\"M18.56 5.44l.94 2.06.94-2.06 2.06-.94-2.06-.94-.94-2.06-.94 2.06-2.06.94zm-11 1L8.5 8.5l.94-2.06 2.06-.94-2.06-.94L8.5 2.5l-.94 2.06-2.06.94zm10 10l.94 2.06.94-2.06 2.06-.94-2.06-.94-.94-2.06-.94 2.06-2.06.94z\"/><path d=\"M17.41 7.96l-1.37-1.37c-.4-.4-.92-.59-1.43-.59-.52 0-1.04.2-1.43.59L10.3 9.45l-7.72 7.72c-.78.78-.78 2.05 0 2.83L4 21.41c.39.39.9.59 1.41.59.51 0 1.02-.2 1.41-.59l7.78-7.78 2.81-2.81c.8-.78.8-2.07 0-2.86zM5.41 20L4 18.59l7.72-7.72 1.47 1.35L5.41 20z\"/>\n",
              "  </svg>\n",
              "      </button>\n",
              "      \n",
              "  <style>\n",
              "    .colab-df-container {\n",
              "      display:flex;\n",
              "      flex-wrap:wrap;\n",
              "      gap: 12px;\n",
              "    }\n",
              "\n",
              "    .colab-df-convert {\n",
              "      background-color: #E8F0FE;\n",
              "      border: none;\n",
              "      border-radius: 50%;\n",
              "      cursor: pointer;\n",
              "      display: none;\n",
              "      fill: #1967D2;\n",
              "      height: 32px;\n",
              "      padding: 0 0 0 0;\n",
              "      width: 32px;\n",
              "    }\n",
              "\n",
              "    .colab-df-convert:hover {\n",
              "      background-color: #E2EBFA;\n",
              "      box-shadow: 0px 1px 2px rgba(60, 64, 67, 0.3), 0px 1px 3px 1px rgba(60, 64, 67, 0.15);\n",
              "      fill: #174EA6;\n",
              "    }\n",
              "\n",
              "    [theme=dark] .colab-df-convert {\n",
              "      background-color: #3B4455;\n",
              "      fill: #D2E3FC;\n",
              "    }\n",
              "\n",
              "    [theme=dark] .colab-df-convert:hover {\n",
              "      background-color: #434B5C;\n",
              "      box-shadow: 0px 1px 3px 1px rgba(0, 0, 0, 0.15);\n",
              "      filter: drop-shadow(0px 1px 2px rgba(0, 0, 0, 0.3));\n",
              "      fill: #FFFFFF;\n",
              "    }\n",
              "  </style>\n",
              "\n",
              "      <script>\n",
              "        const buttonEl =\n",
              "          document.querySelector('#df-42753719-0d0f-452a-a5f8-123b7286fc57 button.colab-df-convert');\n",
              "        buttonEl.style.display =\n",
              "          google.colab.kernel.accessAllowed ? 'block' : 'none';\n",
              "\n",
              "        async function convertToInteractive(key) {\n",
              "          const element = document.querySelector('#df-42753719-0d0f-452a-a5f8-123b7286fc57');\n",
              "          const dataTable =\n",
              "            await google.colab.kernel.invokeFunction('convertToInteractive',\n",
              "                                                     [key], {});\n",
              "          if (!dataTable) return;\n",
              "\n",
              "          const docLinkHtml = 'Like what you see? Visit the ' +\n",
              "            '<a target=\"_blank\" href=https://colab.research.google.com/notebooks/data_table.ipynb>data table notebook</a>'\n",
              "            + ' to learn more about interactive tables.';\n",
              "          element.innerHTML = '';\n",
              "          dataTable['output_type'] = 'display_data';\n",
              "          await google.colab.output.renderOutput(dataTable, element);\n",
              "          const docLink = document.createElement('div');\n",
              "          docLink.innerHTML = docLinkHtml;\n",
              "          element.appendChild(docLink);\n",
              "        }\n",
              "      </script>\n",
              "    </div>\n",
              "  </div>\n",
              "  "
            ],
            "text/plain": [
              "               Price\n",
              "Date                \n",
              "1980-03-17  3.145833\n",
              "1980-03-18  3.031250\n",
              "1980-03-19  3.041667\n",
              "1980-03-20  3.010417\n",
              "1980-03-21  2.916667"
            ]
          },
          "execution_count": 23,
          "metadata": {},
          "output_type": "execute_result"
        }
      ],
      "source": [
        "amd_price=pd.DataFrame(amd['Close']).rename(columns={'Close':'Price'})\n",
        "amd_price.head(5)"
      ]
    },
    {
      "cell_type": "code",
      "execution_count": null,
      "metadata": {
        "colab": {
          "base_uri": "https://localhost:8080/",
          "height": 407
        },
        "id": "PA8SN-pGmOXm",
        "outputId": "6a42f7fa-37da-4c7e-ad37-d1686dcc4d7d"
      },
      "outputs": [
        {
          "data": {
            "image/png": "[encoded data removed]",
            "text/plain": [
              "<Figure size 1000x400 with 2 Axes>"
            ]
          },
          "metadata": {},
          "output_type": "display_data"
        }
      ],
      "source": [
        "fig, (ax1, ax2) = plt.subplots(1, 2, figsize=(10, 4))\n",
        "\n",
        "# Plot for AMD\n",
        "ax1.plot(amd_price['Price'])\n",
        "ax1.set_xlabel('Date')\n",
        "ax1.set_ylabel('Price')\n",
        "ax1.set_title('AMD Stock Market')\n",
        "\n",
        "# Plot for Apple\n",
        "ax2.plot(aapl_price['Price'])\n",
        "ax2.set_xlabel('Date')\n",
        "ax2.set_ylabel('Closing Price')\n",
        "ax2.set_title('Apple Stock Market')\n",
        "\n",
        "plt.tight_layout()\n",
        "plt.show()"
      ]
    },
    {
      "attachments": {},
      "cell_type": "markdown",
      "metadata": {
        "id": "svRPx6vcae_A"
      },
      "source": [
        "Berikut adalah line chart yang menunjukan perubahan harga saham Apple dan AMD dalam kurun waktu 1980 hingga 2020"
      ]
    },
    {
      "cell_type": "code",
      "execution_count": null,
      "metadata": {
        "colab": {
          "base_uri": "https://localhost:8080/",
          "height": 237
        },
        "id": "jjOyqk0Tr9i8",
        "outputId": "6d885ea3-efc9-441a-e093-796cbca45316"
      },
      "outputs": [
        {
          "data": {
            "text/html": [
              "\n",
              "  <div id=\"df-4831906c-6cf9-469e-bcd4-1df3589bbee6\">\n",
              "    <div class=\"colab-df-container\">\n",
              "      <div>\n",
              "<style scoped>\n",
              "    .dataframe tbody tr th:only-of-type {\n",
              "        vertical-align: middle;\n",
              "    }\n",
              "\n",
              "    .dataframe tbody tr th {\n",
              "        vertical-align: top;\n",
              "    }\n",
              "\n",
              "    .dataframe thead th {\n",
              "        text-align: right;\n",
              "    }\n",
              "</style>\n",
              "<table border=\"1\" class=\"dataframe\">\n",
              "  <thead>\n",
              "    <tr style=\"text-align: right;\">\n",
              "      <th></th>\n",
              "      <th>Price</th>\n",
              "    </tr>\n",
              "    <tr>\n",
              "      <th>Date</th>\n",
              "      <th></th>\n",
              "    </tr>\n",
              "  </thead>\n",
              "  <tbody>\n",
              "    <tr>\n",
              "      <th>1980-12-12</th>\n",
              "      <td>0.000969</td>\n",
              "    </tr>\n",
              "    <tr>\n",
              "      <th>1980-12-15</th>\n",
              "      <td>0.000887</td>\n",
              "    </tr>\n",
              "    <tr>\n",
              "      <th>1980-12-16</th>\n",
              "      <td>0.000778</td>\n",
              "    </tr>\n",
              "    <tr>\n",
              "      <th>1980-12-17</th>\n",
              "      <td>0.000812</td>\n",
              "    </tr>\n",
              "    <tr>\n",
              "      <th>1980-12-18</th>\n",
              "      <td>0.000853</td>\n",
              "    </tr>\n",
              "  </tbody>\n",
              "</table>\n",
              "</div>\n",
              "      <button class=\"colab-df-convert\" onclick=\"convertToInteractive('df-4831906c-6cf9-469e-bcd4-1df3589bbee6')\"\n",
              "              title=\"Convert this dataframe to an interactive table.\"\n",
              "              style=\"display:none;\">\n",
              "        \n",
              "  <svg xmlns=\"http://www.w3.org/2000/svg\" height=\"24px\"viewBox=\"0 0 24 24\"\n",
              "       width=\"24px\">\n",
              "    <path d=\"M0 0h24v24H0V0z\" fill=\"none\"/>\n",
              "    <path d=\"M18.56 5.44l.94 2.06.94-2.06 2.06-.94-2.06-.94-.94-2.06-.94 2.06-2.06.94zm-11 1L8.5 8.5l.94-2.06 2.06-.94-2.06-.94L8.5 2.5l-.94 2.06-2.06.94zm10 10l.94 2.06.94-2.06 2.06-.94-2.06-.94-.94-2.06-.94 2.06-2.06.94z\"/><path d=\"M17.41 7.96l-1.37-1.37c-.4-.4-.92-.59-1.43-.59-.52 0-1.04.2-1.43.59L10.3 9.45l-7.72 7.72c-.78.78-.78 2.05 0 2.83L4 21.41c.39.39.9.59 1.41.59.51 0 1.02-.2 1.41-.59l7.78-7.78 2.81-2.81c.8-.78.8-2.07 0-2.86zM5.41 20L4 18.59l7.72-7.72 1.47 1.35L5.41 20z\"/>\n",
              "  </svg>\n",
              "      </button>\n",
              "      \n",
              "  <style>\n",
              "    .colab-df-container {\n",
              "      display:flex;\n",
              "      flex-wrap:wrap;\n",
              "      gap: 12px;\n",
              "    }\n",
              "\n",
              "    .colab-df-convert {\n",
              "      background-color: #E8F0FE;\n",
              "      border: none;\n",
              "      border-radius: 50%;\n",
              "      cursor: pointer;\n",
              "      display: none;\n",
              "      fill: #1967D2;\n",
              "      height: 32px;\n",
              "      padding: 0 0 0 0;\n",
              "      width: 32px;\n",
              "    }\n",
              "\n",
              "    .colab-df-convert:hover {\n",
              "      background-color: #E2EBFA;\n",
              "      box-shadow: 0px 1px 2px rgba(60, 64, 67, 0.3), 0px 1px 3px 1px rgba(60, 64, 67, 0.15);\n",
              "      fill: #174EA6;\n",
              "    }\n",
              "\n",
              "    [theme=dark] .colab-df-convert {\n",
              "      background-color: #3B4455;\n",
              "      fill: #D2E3FC;\n",
              "    }\n",
              "\n",
              "    [theme=dark] .colab-df-convert:hover {\n",
              "      background-color: #434B5C;\n",
              "      box-shadow: 0px 1px 3px 1px rgba(0, 0, 0, 0.15);\n",
              "      filter: drop-shadow(0px 1px 2px rgba(0, 0, 0, 0.3));\n",
              "      fill: #FFFFFF;\n",
              "    }\n",
              "  </style>\n",
              "\n",
              "      <script>\n",
              "        const buttonEl =\n",
              "          document.querySelector('#df-4831906c-6cf9-469e-bcd4-1df3589bbee6 button.colab-df-convert');\n",
              "        buttonEl.style.display =\n",
              "          google.colab.kernel.accessAllowed ? 'block' : 'none';\n",
              "\n",
              "        async function convertToInteractive(key) {\n",
              "          const element = document.querySelector('#df-4831906c-6cf9-469e-bcd4-1df3589bbee6');\n",
              "          const dataTable =\n",
              "            await google.colab.kernel.invokeFunction('convertToInteractive',\n",
              "                                                     [key], {});\n",
              "          if (!dataTable) return;\n",
              "\n",
              "          const docLinkHtml = 'Like what you see? Visit the ' +\n",
              "            '<a target=\"_blank\" href=https://colab.research.google.com/notebooks/data_table.ipynb>data table notebook</a>'\n",
              "            + ' to learn more about interactive tables.';\n",
              "          element.innerHTML = '';\n",
              "          dataTable['output_type'] = 'display_data';\n",
              "          await google.colab.output.renderOutput(dataTable, element);\n",
              "          const docLink = document.createElement('div');\n",
              "          docLink.innerHTML = docLinkHtml;\n",
              "          element.appendChild(docLink);\n",
              "        }\n",
              "      </script>\n",
              "    </div>\n",
              "  </div>\n",
              "  "
            ],
            "text/plain": [
              "               Price\n",
              "Date                \n",
              "1980-12-12  0.000969\n",
              "1980-12-15  0.000887\n",
              "1980-12-16  0.000778\n",
              "1980-12-17  0.000812\n",
              "1980-12-18  0.000853"
            ]
          },
          "execution_count": 25,
          "metadata": {},
          "output_type": "execute_result"
        }
      ],
      "source": [
        "from sklearn.preprocessing import MinMaxScaler\n",
        "\n",
        "scaler = MinMaxScaler()\n",
        "\n",
        "scaled_data = [\"Price\"]\n",
        "aapl_price[scaled_data] = scaler.fit_transform(aapl_price[scaled_data])\n",
        "aapl_price.head(5)"
      ]
    },
    {
      "cell_type": "code",
      "execution_count": null,
      "metadata": {
        "colab": {
          "base_uri": "https://localhost:8080/",
          "height": 237
        },
        "id": "UoEhN-UMthRX",
        "outputId": "2c428b4c-a911-41ed-e076-e23f3167e6ff"
      },
      "outputs": [
        {
          "data": {
            "text/html": [
              "\n",
              "  <div id=\"df-4dcb3810-49ef-4a69-9bbf-26e9dacf8b70\">\n",
              "    <div class=\"colab-df-container\">\n",
              "      <div>\n",
              "<style scoped>\n",
              "    .dataframe tbody tr th:only-of-type {\n",
              "        vertical-align: middle;\n",
              "    }\n",
              "\n",
              "    .dataframe tbody tr th {\n",
              "        vertical-align: top;\n",
              "    }\n",
              "\n",
              "    .dataframe thead th {\n",
              "        text-align: right;\n",
              "    }\n",
              "</style>\n",
              "<table border=\"1\" class=\"dataframe\">\n",
              "  <thead>\n",
              "    <tr style=\"text-align: right;\">\n",
              "      <th></th>\n",
              "      <th>Price</th>\n",
              "    </tr>\n",
              "    <tr>\n",
              "      <th>Date</th>\n",
              "      <th></th>\n",
              "    </tr>\n",
              "  </thead>\n",
              "  <tbody>\n",
              "    <tr>\n",
              "      <th>1980-03-17</th>\n",
              "      <td>0.026638</td>\n",
              "    </tr>\n",
              "    <tr>\n",
              "      <th>1980-03-18</th>\n",
              "      <td>0.024638</td>\n",
              "    </tr>\n",
              "    <tr>\n",
              "      <th>1980-03-19</th>\n",
              "      <td>0.024820</td>\n",
              "    </tr>\n",
              "    <tr>\n",
              "      <th>1980-03-20</th>\n",
              "      <td>0.024274</td>\n",
              "    </tr>\n",
              "    <tr>\n",
              "      <th>1980-03-21</th>\n",
              "      <td>0.022637</td>\n",
              "    </tr>\n",
              "  </tbody>\n",
              "</table>\n",
              "</div>\n",
              "      <button class=\"colab-df-convert\" onclick=\"convertToInteractive('df-4dcb3810-49ef-4a69-9bbf-26e9dacf8b70')\"\n",
              "              title=\"Convert this dataframe to an interactive table.\"\n",
              "              style=\"display:none;\">\n",
              "        \n",
              "  <svg xmlns=\"http://www.w3.org/2000/svg\" height=\"24px\"viewBox=\"0 0 24 24\"\n",
              "       width=\"24px\">\n",
              "    <path d=\"M0 0h24v24H0V0z\" fill=\"none\"/>\n",
              "    <path d=\"M18.56 5.44l.94 2.06.94-2.06 2.06-.94-2.06-.94-.94-2.06-.94 2.06-2.06.94zm-11 1L8.5 8.5l.94-2.06 2.06-.94-2.06-.94L8.5 2.5l-.94 2.06-2.06.94zm10 10l.94 2.06.94-2.06 2.06-.94-2.06-.94-.94-2.06-.94 2.06-2.06.94z\"/><path d=\"M17.41 7.96l-1.37-1.37c-.4-.4-.92-.59-1.43-.59-.52 0-1.04.2-1.43.59L10.3 9.45l-7.72 7.72c-.78.78-.78 2.05 0 2.83L4 21.41c.39.39.9.59 1.41.59.51 0 1.02-.2 1.41-.59l7.78-7.78 2.81-2.81c.8-.78.8-2.07 0-2.86zM5.41 20L4 18.59l7.72-7.72 1.47 1.35L5.41 20z\"/>\n",
              "  </svg>\n",
              "      </button>\n",
              "      \n",
              "  <style>\n",
              "    .colab-df-container {\n",
              "      display:flex;\n",
              "      flex-wrap:wrap;\n",
              "      gap: 12px;\n",
              "    }\n",
              "\n",
              "    .colab-df-convert {\n",
              "      background-color: #E8F0FE;\n",
              "      border: none;\n",
              "      border-radius: 50%;\n",
              "      cursor: pointer;\n",
              "      display: none;\n",
              "      fill: #1967D2;\n",
              "      height: 32px;\n",
              "      padding: 0 0 0 0;\n",
              "      width: 32px;\n",
              "    }\n",
              "\n",
              "    .colab-df-convert:hover {\n",
              "      background-color: #E2EBFA;\n",
              "      box-shadow: 0px 1px 2px rgba(60, 64, 67, 0.3), 0px 1px 3px 1px rgba(60, 64, 67, 0.15);\n",
              "      fill: #174EA6;\n",
              "    }\n",
              "\n",
              "    [theme=dark] .colab-df-convert {\n",
              "      background-color: #3B4455;\n",
              "      fill: #D2E3FC;\n",
              "    }\n",
              "\n",
              "    [theme=dark] .colab-df-convert:hover {\n",
              "      background-color: #434B5C;\n",
              "      box-shadow: 0px 1px 3px 1px rgba(0, 0, 0, 0.15);\n",
              "      filter: drop-shadow(0px 1px 2px rgba(0, 0, 0, 0.3));\n",
              "      fill: #FFFFFF;\n",
              "    }\n",
              "  </style>\n",
              "\n",
              "      <script>\n",
              "        const buttonEl =\n",
              "          document.querySelector('#df-4dcb3810-49ef-4a69-9bbf-26e9dacf8b70 button.colab-df-convert');\n",
              "        buttonEl.style.display =\n",
              "          google.colab.kernel.accessAllowed ? 'block' : 'none';\n",
              "\n",
              "        async function convertToInteractive(key) {\n",
              "          const element = document.querySelector('#df-4dcb3810-49ef-4a69-9bbf-26e9dacf8b70');\n",
              "          const dataTable =\n",
              "            await google.colab.kernel.invokeFunction('convertToInteractive',\n",
              "                                                     [key], {});\n",
              "          if (!dataTable) return;\n",
              "\n",
              "          const docLinkHtml = 'Like what you see? Visit the ' +\n",
              "            '<a target=\"_blank\" href=https://colab.research.google.com/notebooks/data_table.ipynb>data table notebook</a>'\n",
              "            + ' to learn more about interactive tables.';\n",
              "          element.innerHTML = '';\n",
              "          dataTable['output_type'] = 'display_data';\n",
              "          await google.colab.output.renderOutput(dataTable, element);\n",
              "          const docLink = document.createElement('div');\n",
              "          docLink.innerHTML = docLinkHtml;\n",
              "          element.appendChild(docLink);\n",
              "        }\n",
              "      </script>\n",
              "    </div>\n",
              "  </div>\n",
              "  "
            ],
            "text/plain": [
              "               Price\n",
              "Date                \n",
              "1980-03-17  0.026638\n",
              "1980-03-18  0.024638\n",
              "1980-03-19  0.024820\n",
              "1980-03-20  0.024274\n",
              "1980-03-21  0.022637"
            ]
          },
          "execution_count": 26,
          "metadata": {},
          "output_type": "execute_result"
        }
      ],
      "source": [
        "scaler = MinMaxScaler()\n",
        "\n",
        "scaled_data = [\"Price\"]\n",
        "amd_price[scaled_data] = scaler.fit_transform(amd_price[scaled_data])\n",
        "amd_price.head(5)"
      ]
    },
    {
      "attachments": {},
      "cell_type": "markdown",
      "metadata": {
        "id": "WsGLUzz8baop"
      },
      "source": [
        "Pada bagian praproses data saya juga melakukan scaling pada dataset Apple dan AMD, alasanya karena LSTM merupakan algoritma yang berbasis gradien sehingga dengan dilakukanya scaling dapat membantu dalam mempercepat konvergensi. Dengan skala yang serupa, model LSTM lebih mungkin untuk mencapai hasil yang optimal lebih cepat."
      ]
    },
    {
      "attachments": {},
      "cell_type": "markdown",
      "metadata": {
        "id": "9NKYLCGQfF8x"
      },
      "source": [
        "## **Pisahkan data time series tersebut menjadi dua bagian input dan output**"
      ]
    },
    {
      "cell_type": "code",
      "execution_count": null,
      "metadata": {
        "id": "qyGXruyk5jnL"
      },
      "outputs": [],
      "source": [
        "import torch\n",
        "\n",
        "def create_dataset(dataset, window, horizon):\n",
        "    X, y = [], []\n",
        "    for i in range(len(dataset) - window - horizon + 1):\n",
        "        feature = dataset[i:i+window]\n",
        "        target = dataset[i+window:i+window+horizon]\n",
        "        X.append(feature)\n",
        "        y.append(target)\n",
        "    return torch.tensor(X), torch.tensor(y)\n",
        "\n",
        "window = 5\n",
        "horizon = 1"
      ]
    },
    {
      "attachments": {},
      "cell_type": "markdown",
      "metadata": {
        "id": "LF7HfMvyfVk_"
      },
      "source": [
        "Fungsi diatas memungkinkan kita untuk membagi data timeseries kedalam dua bagian yaitu inpu dan output. Parameter window menentukan jumlah waktu (observasi) yang digunakan sebagai fitur atau input untuk memprediksi nilai target di masa depan. Sedangkan parameter horizon menentukan jumlah waktu ke depan yang ingin diprediksi oleh model."
      ]
    },
    {
      "attachments": {},
      "cell_type": "markdown",
      "metadata": {
        "id": "waaZCntc4218"
      },
      "source": [
        "## **Pisahkan dataset menjadi train, test dan validation set dengan ketentuan (80 train, 10 val, 10 test)**"
      ]
    },
    {
      "attachments": {},
      "cell_type": "markdown",
      "metadata": {
        "id": "YRsgTnVvdmQR"
      },
      "source": [
        "Sebelum split data ini dilakukan data dibagi terlebih dahulu membuat data berdasarkan timestepnya, karena data timeseries bergantung pada timestep."
      ]
    },
    {
      "attachments": {},
      "cell_type": "markdown",
      "metadata": {
        "id": "BFecUXmZ5IP0"
      },
      "source": [
        "### **Splitting untuk dataset Apple**"
      ]
    },
    {
      "cell_type": "code",
      "execution_count": null,
      "metadata": {
        "colab": {
          "base_uri": "https://localhost:8080/"
        },
        "id": "ItAmJ206wZ1A",
        "outputId": "319b92e9-d1e4-41d9-a91a-a3b59f2e9ff8"
      },
      "outputs": [
        {
          "data": {
            "text/plain": [
              "(array(['1980-12-12T00:00:00.000000000', '1980-12-15T00:00:00.000000000',\n",
              "        '1980-12-16T00:00:00.000000000', '1980-12-17T00:00:00.000000000',\n",
              "        '1980-12-18T00:00:00.000000000', '1980-12-19T00:00:00.000000000',\n",
              "        '1980-12-22T00:00:00.000000000', '1980-12-23T00:00:00.000000000',\n",
              "        '1980-12-24T00:00:00.000000000', '1980-12-26T00:00:00.000000000'],\n",
              "       dtype='datetime64[ns]'),\n",
              " array([0.0009693 , 0.00088739, 0.00077817, 0.0008123 , 0.00085326,\n",
              "        0.00094199, 0.00101708, 0.00108534, 0.00117408, 0.00133791],\n",
              "       dtype=float32))"
            ]
          },
          "execution_count": 28,
          "metadata": {},
          "output_type": "execute_result"
        }
      ],
      "source": [
        "time_step_aapl=aapl_price.index.to_numpy()\n",
        "price=aapl_price['Price'].values.astype('float32')\n",
        "time_step_aapl[:10],price[:10]"
      ]
    },
    {
      "cell_type": "code",
      "execution_count": null,
      "metadata": {
        "colab": {
          "base_uri": "https://localhost:8080/"
        },
        "id": "RrSIg6f7zBgN",
        "outputId": "3073fab0-a58e-4607-f32c-8c43f26f13a0"
      },
      "outputs": [
        {
          "name": "stdout",
          "output_type": "stream",
          "text": [
            "7927\n",
            "990\n"
          ]
        }
      ],
      "source": [
        "split_size=int(0.8*len(price))\n",
        "print(split_size)\n",
        "split_size_val=int(0.1*len(price))\n",
        "print(split_size_val)"
      ]
    },
    {
      "cell_type": "code",
      "execution_count": null,
      "metadata": {
        "colab": {
          "base_uri": "https://localhost:8080/"
        },
        "id": "YzLY7IL6zDkT",
        "outputId": "bdc1b395-81bf-4254-b700-a244dc4bb484"
      },
      "outputs": [
        {
          "data": {
            "text/plain": [
              "(7927, 991, 991, 7927, 991, 991)"
            ]
          },
          "execution_count": 30,
          "metadata": {},
          "output_type": "execute_result"
        }
      ],
      "source": [
        "aapl_train_time,aapl_train_price=time_step_aapl[:split_size],price[:split_size]\n",
        "aapl_val_time,aapl_val_price=time_step_aapl[split_size-1:split_size+split_size_val],price[split_size-1:split_size+split_size_val]\n",
        "aapl_test_time,aapl_test_price=time_step_aapl[split_size+split_size_val+1:],price[split_size+split_size_val+1:]\n",
        "len(aapl_train_time),len(aapl_val_time),len(aapl_test_time),len(aapl_train_price),len(aapl_val_price),len(aapl_test_price)"
      ]
    },
    {
      "cell_type": "code",
      "execution_count": null,
      "metadata": {
        "colab": {
          "base_uri": "https://localhost:8080/"
        },
        "id": "plazKzlz0PHc",
        "outputId": "e6cfbcc8-998d-4f0a-a402-824fd7818de8"
      },
      "outputs": [
        {
          "name": "stdout",
          "output_type": "stream",
          "text": [
            "Total Training Length: 9909\n"
          ]
        }
      ],
      "source": [
        "print(\"Total Training Length:\", len(aapl_train_time)+len(aapl_test_time)+len(aapl_val_time))"
      ]
    },
    {
      "cell_type": "code",
      "execution_count": null,
      "metadata": {
        "colab": {
          "base_uri": "https://localhost:8080/"
        },
        "id": "ZZTtrLnt0zNt",
        "outputId": "b0a269db-300f-4d54-face-eb987c0470c3"
      },
      "outputs": [
        {
          "data": {
            "text/plain": [
              "array(['1980-12-12T00:00:00.000000000', '1980-12-15T00:00:00.000000000',\n",
              "       '1980-12-16T00:00:00.000000000', '1980-12-17T00:00:00.000000000',\n",
              "       '1980-12-18T00:00:00.000000000', '1980-12-19T00:00:00.000000000',\n",
              "       '1980-12-22T00:00:00.000000000', '1980-12-23T00:00:00.000000000',\n",
              "       '1980-12-24T00:00:00.000000000', '1980-12-26T00:00:00.000000000'],\n",
              "      dtype='datetime64[ns]')"
            ]
          },
          "execution_count": 32,
          "metadata": {},
          "output_type": "execute_result"
        }
      ],
      "source": [
        "aapl_train_time[0:10]"
      ]
    },
    {
      "cell_type": "code",
      "execution_count": null,
      "metadata": {
        "colab": {
          "base_uri": "https://localhost:8080/"
        },
        "id": "2ByDU3SY2AlJ",
        "outputId": "cd219292-5c14-47cd-a650-ce9abcb82272"
      },
      "outputs": [
        {
          "data": {
            "image/png": "[encoded data removed]",
            "text/plain": [
              "<Figure size 1000x700 with 1 Axes>"
            ]
          },
          "metadata": {},
          "output_type": "display_data"
        }
      ],
      "source": [
        "plt.figure(figsize=(10,7))\n",
        "plt.scatter(aapl_train_time, aapl_train_price, s=5, label=\"Train data\")\n",
        "plt.scatter(aapl_val_time, aapl_val_price, s=5, label=\"Val data\")\n",
        "plt.scatter(aapl_test_time, aapl_test_price, s=5, label=\"Test data\")\n",
        "plt.title('Apple Stock Splitted Dataset')\n",
        "plt.xlabel('Date')\n",
        "plt.ylabel('Apple Stock Price')\n",
        "plt.legend()\n",
        "plt.show()"
      ]
    },
    {
      "cell_type": "code",
      "execution_count": null,
      "metadata": {
        "colab": {
          "base_uri": "https://localhost:8080/"
        },
        "id": "1vrdbScS5dM4",
        "outputId": "832b87c4-e69e-4519-dfc0-c64c2bcff5e5"
      },
      "outputs": [
        {
          "name": "stdout",
          "output_type": "stream",
          "text": [
            "torch.Size([7922, 5]) torch.Size([7922, 1])\n",
            "torch.Size([986, 5]) torch.Size([986, 1])\n",
            "torch.Size([986, 5]) torch.Size([986, 1])\n"
          ]
        }
      ],
      "source": [
        "Xapl_train, yapl_train = create_dataset(aapl_train_price, window=window, horizon=horizon)\n",
        "Xapl_val, yapl_val = create_dataset(aapl_val_price, window=window, horizon=horizon)\n",
        "Xapl_test, yapl_test = create_dataset(aapl_test_price, window=window, horizon=horizon)\n",
        "\n",
        "print(Xapl_train.shape, yapl_train.shape)\n",
        "print(Xapl_val.shape, yapl_val.shape)\n",
        "print(Xapl_test.shape, yapl_test.shape)"
      ]
    },
    {
      "attachments": {},
      "cell_type": "markdown",
      "metadata": {
        "id": "AuxwJ9pKgXI6"
      },
      "source": [
        "Dataset Apple sudah terbagi menjadi tiga bagian yaitu Training, Validation dan Testing"
      ]
    },
    {
      "attachments": {},
      "cell_type": "markdown",
      "metadata": {
        "id": "qmqdx8aq8Jx4"
      },
      "source": [
        "### **Splitting untuk dataset AMD**"
      ]
    },
    {
      "cell_type": "code",
      "execution_count": null,
      "metadata": {
        "colab": {
          "base_uri": "https://localhost:8080/"
        },
        "id": "g2Qx4tzO8MjB",
        "outputId": "06ac58ac-af63-4fba-aeb7-0611b83f01eb"
      },
      "outputs": [
        {
          "data": {
            "text/plain": [
              "(array(['1980-03-17T00:00:00.000000000', '1980-03-18T00:00:00.000000000',\n",
              "        '1980-03-19T00:00:00.000000000', '1980-03-20T00:00:00.000000000',\n",
              "        '1980-03-21T00:00:00.000000000', '1980-03-24T00:00:00.000000000',\n",
              "        '1980-03-25T00:00:00.000000000', '1980-03-26T00:00:00.000000000',\n",
              "        '1980-03-27T00:00:00.000000000', '1980-03-28T00:00:00.000000000'],\n",
              "       dtype='datetime64[ns]'),\n",
              " array([0.02663815, 0.02463774, 0.0248196 , 0.02427403, 0.02263734,\n",
              "        0.01827281, 0.01718168, 0.01445385, 0.01318087, 0.01609055],\n",
              "       dtype=float32))"
            ]
          },
          "execution_count": 35,
          "metadata": {},
          "output_type": "execute_result"
        }
      ],
      "source": [
        "time_step_amd=amd_price.index.to_numpy()\n",
        "price=amd_price['Price'].values.astype('float32')\n",
        "time_step_amd[:10],price[:10]"
      ]
    },
    {
      "cell_type": "code",
      "execution_count": null,
      "metadata": {
        "colab": {
          "base_uri": "https://localhost:8080/"
        },
        "id": "1c8GmKGD-6Ak",
        "outputId": "5521c750-4f9e-482a-ec1e-48f4545cbadf"
      },
      "outputs": [
        {
          "name": "stdout",
          "output_type": "stream",
          "text": [
            "8078\n",
            "1009\n"
          ]
        }
      ],
      "source": [
        "split_size=int(0.8*len(price))\n",
        "print(split_size)\n",
        "split_size_val=int(0.1*len(price))\n",
        "print(split_size_val)"
      ]
    },
    {
      "cell_type": "code",
      "execution_count": null,
      "metadata": {
        "colab": {
          "base_uri": "https://localhost:8080/"
        },
        "id": "NY0IUXAi8X7P",
        "outputId": "58e9e6cb-0eef-4e62-a9b2-eea523158684"
      },
      "outputs": [
        {
          "data": {
            "text/plain": [
              "(8078, 1010, 1010, 8078, 1010, 1010)"
            ]
          },
          "execution_count": 37,
          "metadata": {},
          "output_type": "execute_result"
        }
      ],
      "source": [
        "amd_train_time,amd_train_price=time_step_amd[:split_size],price[:split_size]\n",
        "amd_val_time,amd_val_price=time_step_amd[split_size-1:split_size+split_size_val],price[split_size-1:split_size+split_size_val]\n",
        "amd_test_time,amd_test_price=time_step_amd[split_size+split_size_val+1:],price[split_size+split_size_val+1:]\n",
        "len(amd_train_time),len(amd_val_time),len(amd_test_time),len(amd_train_price),len(amd_val_price),len(amd_test_price)"
      ]
    },
    {
      "cell_type": "code",
      "execution_count": null,
      "metadata": {
        "colab": {
          "base_uri": "https://localhost:8080/"
        },
        "id": "rdUMFcmb9ouQ",
        "outputId": "966f67e1-3144-4228-9b33-27a045129332"
      },
      "outputs": [
        {
          "name": "stdout",
          "output_type": "stream",
          "text": [
            "Total Training Length: 10098\n"
          ]
        }
      ],
      "source": [
        "print(\"Total Training Length:\", len(amd_train_time)+len(amd_val_time)+len(amd_test_time))"
      ]
    },
    {
      "cell_type": "code",
      "execution_count": null,
      "metadata": {
        "colab": {
          "base_uri": "https://localhost:8080/"
        },
        "id": "IqU2RtUoABZ_",
        "outputId": "8da3089b-cc30-40bc-b1fa-02700e2a7ba0"
      },
      "outputs": [
        {
          "data": {
            "text/plain": [
              "array(['1980-03-17T00:00:00.000000000', '1980-03-18T00:00:00.000000000',\n",
              "       '1980-03-19T00:00:00.000000000', '1980-03-20T00:00:00.000000000',\n",
              "       '1980-03-21T00:00:00.000000000', '1980-03-24T00:00:00.000000000',\n",
              "       '1980-03-25T00:00:00.000000000', '1980-03-26T00:00:00.000000000',\n",
              "       '1980-03-27T00:00:00.000000000', '1980-03-28T00:00:00.000000000'],\n",
              "      dtype='datetime64[ns]')"
            ]
          },
          "execution_count": 39,
          "metadata": {},
          "output_type": "execute_result"
        }
      ],
      "source": [
        "amd_train_time[0:10]"
      ]
    },
    {
      "cell_type": "code",
      "execution_count": null,
      "metadata": {
        "colab": {
          "base_uri": "https://localhost:8080/"
        },
        "id": "iw7Ded3kABcf",
        "outputId": "332631f0-d963-41d5-850d-4465ca20d200"
      },
      "outputs": [
        {
          "data": {
            "image/png": "[encoded data removed]",
            "text/plain": [
              "<Figure size 1000x700 with 1 Axes>"
            ]
          },
          "metadata": {},
          "output_type": "display_data"
        }
      ],
      "source": [
        "plt.figure(figsize=(10,7))\n",
        "plt.scatter(amd_train_time, amd_train_price, s=5, label=\"Train data\")\n",
        "plt.scatter(amd_val_time, amd_val_price, s=5, label=\"Val data\")\n",
        "plt.scatter(amd_test_time, amd_test_price, s=5, label=\"Test data\")\n",
        "plt.title('AMD Stock Splitted Dataset')\n",
        "plt.xlabel('Date')\n",
        "plt.ylabel('AMD Stock Price')\n",
        "plt.legend()\n",
        "plt.show()"
      ]
    },
    {
      "cell_type": "code",
      "execution_count": null,
      "metadata": {
        "colab": {
          "base_uri": "https://localhost:8080/"
        },
        "id": "pQxPelvdAh8E",
        "outputId": "655fd767-518b-4b29-8fdf-401e866d11eb"
      },
      "outputs": [
        {
          "name": "stdout",
          "output_type": "stream",
          "text": [
            "torch.Size([8073, 5]) torch.Size([8073, 1])\n",
            "torch.Size([1005, 5]) torch.Size([1005, 1])\n",
            "torch.Size([1005, 5]) torch.Size([1005, 1])\n"
          ]
        }
      ],
      "source": [
        "Xamd_train, yamd_train = create_dataset(amd_train_price, window=window, horizon=horizon)\n",
        "Xamd_val, yamd_val = create_dataset(amd_val_price, window=window, horizon=horizon)\n",
        "Xamd_test, yamd_test = create_dataset(amd_test_price, window=window, horizon=horizon)\n",
        "\n",
        "print(Xamd_train.shape, yamd_train.shape)\n",
        "print(Xamd_val.shape, yamd_val.shape)\n",
        "print(Xamd_test.shape, yamd_test.shape)"
      ]
    },
    {
      "attachments": {},
      "cell_type": "markdown",
      "metadata": {
        "id": "BHT6KrUbgoBp"
      },
      "source": [
        "Dataset AMD sudah terbagi menjadi tiga bagian yaitu Training, Validation dan Testing"
      ]
    },
    {
      "attachments": {},
      "cell_type": "markdown",
      "metadata": {
        "id": "o5RxgNBJ_pRw"
      },
      "source": [
        "# **1b. Arsitektur Baseline**"
      ]
    },
    {
      "cell_type": "code",
      "execution_count": null,
      "metadata": {
        "id": "P_e26Ehs_t0L"
      },
      "outputs": [],
      "source": [
        "import torch.nn as nn\n",
        "\n",
        "class Baseline(nn.Module):\n",
        "    def __init__(self):\n",
        "        super().__init__()\n",
        "        self.lstm = nn.LSTM(input_size=5, hidden_size=50, num_layers=1, batch_first=True)\n",
        "        self.relu = nn.ReLU()\n",
        "        self.perceptron = nn.Linear(50, 1)\n",
        "\n",
        "    def forward(self, x):\n",
        "        x, _ = self.lstm(x)\n",
        "        x = self.relu(x)\n",
        "        x = self.perceptron(x)\n",
        "        return x"
      ]
    },
    {
      "attachments": {},
      "cell_type": "markdown",
      "metadata": {
        "id": "jJ0OUBvChDq2"
      },
      "source": [
        "Arsitektur baseline yang saya buat sesuai dengan kriteria soal dimana terdapat LSTM (units=50) dan layer akhir berupa\n",
        "node Perceptron dengan units=1 serta Activation function untuk LSTM menggunakan ReLU."
      ]
    },
    {
      "attachments": {},
      "cell_type": "markdown",
      "metadata": {
        "id": "qRbfuPWjMzb7"
      },
      "source": [
        "**Model baseline ketika diterapkan pada dataset Apple**\n"
      ]
    },
    {
      "cell_type": "code",
      "execution_count": null,
      "metadata": {
        "colab": {
          "base_uri": "https://localhost:8080/"
        },
        "id": "OQ0j0qUX_zfW",
        "outputId": "c56fc42d-b486-42f8-ed0e-d920f01fd81c"
      },
      "outputs": [
        {
          "name": "stdout",
          "output_type": "stream",
          "text": [
            "Epoch 0: train RMSE 0.0420, val RMSE 0.2652\n",
            "Epoch 1: train RMSE 0.0418, val RMSE 0.2637\n",
            "Epoch 2: train RMSE 0.0417, val RMSE 0.2639\n",
            "Epoch 3: train RMSE 0.0414, val RMSE 0.2607\n",
            "Epoch 4: train RMSE 0.0413, val RMSE 0.2585\n",
            "Epoch 5: train RMSE 0.0411, val RMSE 0.2578\n"
          ]
        }
      ],
      "source": [
        "import torch.optim as optim\n",
        "import torch.utils.data as data\n",
        "\n",
        "modelBase = Baseline()\n",
        "optimizer = optim.SGD(modelBase.parameters(), lr=0.001)\n",
        "loss_fn = nn.MSELoss()\n",
        "loader = data.DataLoader(data.TensorDataset(Xapl_train, yapl_train), shuffle=True)\n",
        "\n",
        "n_epochs = 6\n",
        "for epoch in range(n_epochs):\n",
        "    modelBase.train()\n",
        "    for X_batch, y_batch in loader:\n",
        "        y_pred = modelBase(X_batch)\n",
        "        loss = loss_fn(y_pred, y_batch)\n",
        "        optimizer.zero_grad()\n",
        "        loss.backward()\n",
        "        optimizer.step()\n",
        "    with torch.no_grad():\n",
        "        y_pred = modelBase(Xapl_train)\n",
        "        train_rmse = np.sqrt(loss_fn(y_pred, yapl_train))\n",
        "        y_pred = modelBase(Xapl_val)\n",
        "        val_rmse = np.sqrt(loss_fn(y_pred, yapl_val))\n",
        "    print(\"Epoch %d: train RMSE %.4f, val RMSE %.4f\" % (epoch, train_rmse, val_rmse))"
      ]
    },
    {
      "attachments": {},
      "cell_type": "markdown",
      "metadata": {
        "id": "Lxuxeviyh3zL"
      },
      "source": [
        "Pada training set nilai RMSE masih menunjukan nilai yang cukup baik, namun pada validation set performa yang dihasikan cukup jauh."
      ]
    },
    {
      "attachments": {},
      "cell_type": "markdown",
      "metadata": {
        "id": "vXDiIql7M7hk"
      },
      "source": [
        "**Model baseline ketika diterapkan pada dataset AMD**"
      ]
    },
    {
      "cell_type": "code",
      "execution_count": null,
      "metadata": {
        "colab": {
          "base_uri": "https://localhost:8080/"
        },
        "id": "nwvn6N8SM_RN",
        "outputId": "79712b80-13e9-459f-b04d-e81afc91142a"
      },
      "outputs": [
        {
          "name": "stdout",
          "output_type": "stream",
          "text": [
            "Epoch 0: train RMSE 0.1231, val RMSE 0.1729\n",
            "Epoch 1: train RMSE 0.1173, val RMSE 0.1668\n",
            "Epoch 2: train RMSE 0.1136, val RMSE 0.1653\n",
            "Epoch 3: train RMSE 0.1045, val RMSE 0.1525\n",
            "Epoch 4: train RMSE 0.1007, val RMSE 0.1489\n",
            "Epoch 5: train RMSE 0.0959, val RMSE 0.1412\n"
          ]
        }
      ],
      "source": [
        "modelBase = Baseline()\n",
        "optimizer = optim.SGD(modelBase.parameters(), lr=0.001)\n",
        "loss_fn = nn.MSELoss()\n",
        "loader = data.DataLoader(data.TensorDataset(Xamd_train, yamd_train), shuffle=True)\n",
        "\n",
        "n_epochs = 6\n",
        "for epoch in range(n_epochs):\n",
        "    modelBase.train()\n",
        "    for X_batch, y_batch in loader:\n",
        "        y_pred = modelBase(X_batch)\n",
        "        loss = loss_fn(y_pred, y_batch)\n",
        "        optimizer.zero_grad()\n",
        "        loss.backward()\n",
        "        optimizer.step()\n",
        "    with torch.no_grad():\n",
        "        y_pred = modelBase(Xamd_train)\n",
        "        train_rmse = np.sqrt(loss_fn(y_pred, yamd_train))\n",
        "        y_pred = modelBase(Xamd_val)\n",
        "        val_rmse = np.sqrt(loss_fn(y_pred, yamd_val))\n",
        "    print(\"Epoch %d: train RMSE %.4f, val RMSE %.4f\" % (epoch, train_rmse, val_rmse))"
      ]
    },
    {
      "attachments": {},
      "cell_type": "markdown",
      "metadata": {
        "id": "HFhStLzPiptO"
      },
      "source": [
        "Pada training set maupun validation set sama-sama menunjukan nilai yang tidak terlalu jauh yaitu di rentan 0.1"
      ]
    },
    {
      "attachments": {},
      "cell_type": "markdown",
      "metadata": {
        "id": "nd3pvwXYjElp"
      },
      "source": [
        "Secara keseluruhan performa model jika ditinjau melalui nilai RMSE, model ini tidak terlalu buruk ketika diterapkan pada dataset Apple maupun AMD, oleh karena itu untuk meningkatkan performa model ini akan dilakukan modifikasi dan tuning terhadap arsitektur baseline diatas."
      ]
    },
    {
      "attachments": {},
      "cell_type": "markdown",
      "metadata": {
        "id": "jss2xvtIRY3z"
      },
      "source": [
        "# **1c. Modifikasi Arsitektur Baseline LSTM**"
      ]
    },
    {
      "attachments": {},
      "cell_type": "markdown",
      "metadata": {
        "id": "Y-9yX98vRfAa"
      },
      "source": [
        "Pada bagian ini, saya hanya melakukan sedikit tuning pada beberapa hyperparameter dan optimizer saja dikarenakan model sudah menunjukan performa yang baik.\n",
        "\n",
        "Alasan saya tidak merubah arsitektur ini karena ketika saya melakukan tuning terhadap hal-hal tersebut, performa yang cukup baik sudah saya dapatkan sehingga saya memilih untuk tidak menambahkan layer apapun kedalam arsitektur ini.\n",
        "\n",
        "Tuning dan alasanya:\n",
        "\n",
        "*   Saya merubah optimizer dari SGD menjadi adam, karena dataset yang diolah cukup besar serta memberikan konvergensi yang lebih cepat dan lebih stabil dibandingkan dengan SGD\n",
        "*   Saya melakukan tuning terhadap learning rate dari 0.001 (default) menjadi 0.01\n",
        "*   Saya menambahkan batch size sebesar 64 agar dapat mengurangi waktu training yang dibutuhkan serta mengoptimalkan penggunaan sumber daya\n",
        "*   Saya menambahkan epochnya menjadi 20 untuk menemukan titik optimal dalam proses training.\n",
        "\n",
        "\n",
        "\n",
        "\n",
        "\n"
      ]
    },
    {
      "cell_type": "code",
      "execution_count": null,
      "metadata": {
        "id": "oBfaYju1Rytq"
      },
      "outputs": [],
      "source": [
        "import torch.nn as nn\n",
        "\n",
        "class Modification(nn.Module):\n",
        "    def __init__(self):\n",
        "        super().__init__()\n",
        "        self.lstm = nn.LSTM(input_size=5, hidden_size=50, num_layers=1, batch_first=True)\n",
        "        self.relu = nn.ReLU()\n",
        "        self.perceptron = nn.Linear(50, 1)\n",
        "\n",
        "    def forward(self, x):\n",
        "        x, _ = self.lstm(x)\n",
        "        x = self.relu(x)\n",
        "        x = self.perceptron(x)\n",
        "        return x"
      ]
    },
    {
      "cell_type": "code",
      "execution_count": null,
      "metadata": {
        "colab": {
          "base_uri": "https://localhost:8080/"
        },
        "id": "rKevKJ_4SFNF",
        "outputId": "82b33e6d-cd98-4d31-a4cb-95f351e13e3d"
      },
      "outputs": [
        {
          "name": "stdout",
          "output_type": "stream",
          "text": [
            "Epoch 0: train RMSE 0.0019, val RMSE 0.0220\n",
            "Epoch 1: train RMSE 0.0015, val RMSE 0.0135\n",
            "Epoch 2: train RMSE 0.0015, val RMSE 0.0116\n",
            "Epoch 3: train RMSE 0.0016, val RMSE 0.0099\n",
            "Epoch 4: train RMSE 0.0018, val RMSE 0.0079\n",
            "Epoch 5: train RMSE 0.0019, val RMSE 0.0186\n",
            "Epoch 6: train RMSE 0.0013, val RMSE 0.0085\n",
            "Epoch 7: train RMSE 0.0015, val RMSE 0.0115\n",
            "Epoch 8: train RMSE 0.0013, val RMSE 0.0080\n",
            "Epoch 9: train RMSE 0.0015, val RMSE 0.0081\n",
            "Epoch 10: train RMSE 0.0013, val RMSE 0.0067\n",
            "Epoch 11: train RMSE 0.0014, val RMSE 0.0069\n",
            "Epoch 12: train RMSE 0.0022, val RMSE 0.0076\n",
            "Epoch 13: train RMSE 0.0015, val RMSE 0.0086\n",
            "Epoch 14: train RMSE 0.0022, val RMSE 0.0095\n",
            "Epoch 15: train RMSE 0.0013, val RMSE 0.0079\n",
            "Epoch 16: train RMSE 0.0020, val RMSE 0.0083\n",
            "Epoch 17: train RMSE 0.0016, val RMSE 0.0116\n",
            "Epoch 18: train RMSE 0.0014, val RMSE 0.0083\n",
            "Epoch 19: train RMSE 0.0019, val RMSE 0.0113\n"
          ]
        }
      ],
      "source": [
        "import torch.optim as optim\n",
        "import torch.utils.data as data\n",
        "\n",
        "modelTune = Modification()\n",
        "optimizer = optim.Adam(modelTune.parameters(), lr=0.01)\n",
        "loss_fn = nn.MSELoss()\n",
        "loader = data.DataLoader(data.TensorDataset(Xapl_train, yapl_train), shuffle=True, batch_size = 64)\n",
        "\n",
        "n_epochs = 20\n",
        "for epoch in range(n_epochs):\n",
        "    modelTune.train()\n",
        "    for X_batch, y_batch in loader:\n",
        "        y_pred = modelTune(X_batch)\n",
        "        loss = loss_fn(y_pred, y_batch)\n",
        "        optimizer.zero_grad()\n",
        "        loss.backward()\n",
        "        optimizer.step()\n",
        "    with torch.no_grad():\n",
        "        y_pred = modelTune(Xapl_train)\n",
        "        train_rmse = np.sqrt(loss_fn(y_pred, yapl_train))\n",
        "        y_pred = modelTune(Xapl_val)\n",
        "        val_rmse = np.sqrt(loss_fn(y_pred, yapl_val))\n",
        "    print(\"Epoch %d: train RMSE %.4f, val RMSE %.4f\" % (epoch, train_rmse, val_rmse))"
      ]
    },
    {
      "cell_type": "code",
      "execution_count": null,
      "metadata": {
        "colab": {
          "base_uri": "https://localhost:8080/"
        },
        "id": "lBcRt0abgqmy",
        "outputId": "052fb432-f8ce-4960-9d0f-25626e253f54"
      },
      "outputs": [
        {
          "name": "stdout",
          "output_type": "stream",
          "text": [
            "Epoch 0: train RMSE 0.0183, val RMSE 0.0058\n",
            "Epoch 1: train RMSE 0.0127, val RMSE 0.0048\n",
            "Epoch 2: train RMSE 0.0131, val RMSE 0.0047\n",
            "Epoch 3: train RMSE 0.0126, val RMSE 0.0036\n",
            "Epoch 4: train RMSE 0.0139, val RMSE 0.0065\n",
            "Epoch 5: train RMSE 0.0106, val RMSE 0.0065\n",
            "Epoch 6: train RMSE 0.0120, val RMSE 0.0035\n",
            "Epoch 7: train RMSE 0.0106, val RMSE 0.0036\n",
            "Epoch 8: train RMSE 0.0108, val RMSE 0.0041\n",
            "Epoch 9: train RMSE 0.0106, val RMSE 0.0043\n",
            "Epoch 10: train RMSE 0.0102, val RMSE 0.0060\n",
            "Epoch 11: train RMSE 0.0099, val RMSE 0.0039\n",
            "Epoch 12: train RMSE 0.0096, val RMSE 0.0052\n",
            "Epoch 13: train RMSE 0.0097, val RMSE 0.0034\n",
            "Epoch 14: train RMSE 0.0117, val RMSE 0.0133\n",
            "Epoch 15: train RMSE 0.0109, val RMSE 0.0051\n",
            "Epoch 16: train RMSE 0.0097, val RMSE 0.0057\n",
            "Epoch 17: train RMSE 0.0103, val RMSE 0.0067\n",
            "Epoch 18: train RMSE 0.0099, val RMSE 0.0085\n",
            "Epoch 19: train RMSE 0.0095, val RMSE 0.0046\n"
          ]
        }
      ],
      "source": [
        "import torch.optim as optim\n",
        "import torch.utils.data as data\n",
        "\n",
        "modelTune = Modification()\n",
        "optimizer = optim.Adam(modelTune.parameters(), lr=0.01)\n",
        "loss_fn = nn.MSELoss()\n",
        "loader = data.DataLoader(data.TensorDataset(Xamd_train, yamd_train), shuffle=True, batch_size = 64)\n",
        "\n",
        "n_epochs = 20\n",
        "for epoch in range(n_epochs):\n",
        "    modelTune.train()\n",
        "    for X_batch, y_batch in loader:\n",
        "        y_pred = modelTune(X_batch)\n",
        "        loss = loss_fn(y_pred, y_batch)\n",
        "        optimizer.zero_grad()\n",
        "        loss.backward()\n",
        "        optimizer.step()\n",
        "    with torch.no_grad():\n",
        "        y_pred = modelTune(Xamd_train)\n",
        "        train_rmse = np.sqrt(loss_fn(y_pred, yamd_train))\n",
        "        y_pred = modelTune(Xamd_val)\n",
        "        val_rmse = np.sqrt(loss_fn(y_pred, yamd_val))\n",
        "    print(\"Epoch %d: train RMSE %.4f, val RMSE %.4f\" % (epoch, train_rmse, val_rmse))"
      ]
    },
    {
      "attachments": {},
      "cell_type": "markdown",
      "metadata": {
        "id": "bNQuLZvXoE7Z"
      },
      "source": [
        "Setelah dilakukan tuning pada optimizer dan hyperparameter, model menunjukan performa yang baik dan positif. Performa yang dihasilkan cukup terpaut jauh dari performa yang dihasilkan arsitektur sebelum di tuning."
      ]
    },
    {
      "attachments": {},
      "cell_type": "markdown",
      "metadata": {
        "id": "z901L4Nfh_kf"
      },
      "source": [
        "# **1d. Evaluasi Arsitektur**"
      ]
    },
    {
      "attachments": {},
      "cell_type": "markdown",
      "metadata": {
        "id": "3IPySkrCom0X"
      },
      "source": [
        "## **Evaluasi Arsitektur Baseline**"
      ]
    },
    {
      "cell_type": "code",
      "execution_count": null,
      "metadata": {
        "colab": {
          "base_uri": "https://localhost:8080/"
        },
        "id": "nmSxNxFw4NR2",
        "outputId": "f8fa3ee0-7ff3-4b55-f07e-ff2d80b57e9a"
      },
      "outputs": [
        {
          "name": "stdout",
          "output_type": "stream",
          "text": [
            "RMSE Apple: 0.1653408259153366\n",
            "MAE Apple: 0.13531383872032166\n",
            "MAPE Apple: 22.12894630432129\n"
          ]
        }
      ],
      "source": [
        "x_test = torch.tensor(Xapl_test)\n",
        "y_test = torch.tensor(yapl_test)\n",
        "\n",
        "modelBase.eval()\n",
        "\n",
        "y_pred = modelBase.forward(Xapl_test)\n",
        "\n",
        "rmse = torch.sqrt(nn.MSELoss()(y_pred, y_test))\n",
        "mae = nn.L1Loss()(y_pred, y_test)\n",
        "mape = torch.mean(torch.abs((y_pred - y_test) / y_test)) * 100\n",
        "\n",
        "print(\"RMSE Apple:\", rmse.item())\n",
        "print(\"MAE Apple:\", mae.item())\n",
        "print(\"MAPE Apple:\", mape.item())"
      ]
    },
    {
      "cell_type": "code",
      "execution_count": null,
      "metadata": {
        "colab": {
          "base_uri": "https://localhost:8080/"
        },
        "id": "WkD7QBWXuV8a",
        "outputId": "7aeb84ba-82d4-40f3-f495-bb159ee79388"
      },
      "outputs": [
        {
          "name": "stdout",
          "output_type": "stream",
          "text": [
            "RMSE AMD: 0.11865581572055817\n",
            "MAE AMD: 0.09400216490030289\n",
            "MAPE AMD: 58.67791175842285\n"
          ]
        }
      ],
      "source": [
        "X_test_amd = torch.Tensor(Xamd_test)\n",
        "y_test_amd = torch.Tensor(yamd_test)\n",
        "\n",
        "modelBase.eval()\n",
        "test_predictions_tensor_amd = modelBase(X_test_amd)\n",
        "\n",
        "y_pred = test_predictions_tensor_amd.detach().numpy()\n",
        "y_test = y_test_amd.numpy()\n",
        "\n",
        "rmse = np.sqrt(np.mean((y_test - y_pred) ** 2))\n",
        "mae = np.mean(np.abs(y_test - y_pred))\n",
        "mape = np.mean(np.abs((y_test - y_pred) / y_test)) * 100\n",
        "\n",
        "print(\"RMSE AMD:\", rmse.item())\n",
        "print(\"MAE AMD:\", mae.item())\n",
        "print(\"MAPE AMD:\", mape.item())"
      ]
    },
    {
      "attachments": {},
      "cell_type": "markdown",
      "metadata": {
        "id": "3Nc7MubysE9a"
      },
      "source": [
        "Secara keseluruhan arsitektur baseline memberikan performa yang cukup baik ketika diterapkan pada kedua dataset test ini.\n",
        "\n",
        "*  Dalam kasus ini, nilai RMSE untuk kedua dataset berada di rentan angka 0.165(Apple) dan 0.118(AMD). RMSE sendiri memberikan gambaran tentang sejauh mana nilai prediksi tersebar di sekitar nilai aktual. Dalam hal ini, nilai RMSE relatif rendah menunjukkan bahwa model memiliki tingkat kesalahan yang cukup baik dalam memprediksi nilai-nilai\n",
        "*   MAE mengukur rata-rata dari selisih absolut antara nilai prediksi dan nilai aktual. Nilai MAE untuk kedua dataset berada di rentang angka 0.135(Apple) dan 0.094(AMD). MAE memberikan gambaran tentang seberapa dekat nilai prediksi dengan nilai aktual. Dalam kasus ini, nilai MAE relatif rendah menunjukkan bahwa model memiliki kesalahan yang cukup baik dalam memprediksi nilai-nilai.\n",
        "*   MAPE adalah ukuran kesalahan rata-rata dalam bentuk persentase antara nilai prediksi dan nilai aktual. Nilai MAPE untuk kedua dataset ini masing masing sebesar 22.12(Apple) dan 58.67(AMD). Dalam konteks ini, nilai MAPE yang relatif cukup tinggi menunjukkan bahwa kesalahan prediksi dalam persentase cukup tinggi.\n",
        "\n",
        "Secara keseluruhan, hasil yang diberikan menunjukkan bahwa model baseline memiliki tingkat kesalahan yang cukup baik, namun pada beberapa metric seperti MAPE masih menunjukan angka yang cukup tinggi. Perlu diingat bahwa evaluasi tidak hanya dilihat dari satu metric saja melainkan metric-metric lainya."
      ]
    },
    {
      "cell_type": "code",
      "execution_count": null,
      "metadata": {
        "id": "zs3HPdXOelHf"
      },
      "outputs": [],
      "source": [
        "X_test_apl = torch.Tensor(Xapl_test)\n",
        "y_test_apl = torch.Tensor(yapl_test)\n",
        "\n",
        "test_predictions_tensor_apl = modelBase(X_test_apl).flatten()\n",
        "\n",
        "test_predictions_apl = test_predictions_tensor_apl.detach().numpy()\n",
        "yapl_test = y_test_apl.numpy()\n",
        "\n",
        "\n",
        "X_test_amd = torch.Tensor(Xamd_test)\n",
        "y_test_amd = torch.Tensor(yamd_test)\n",
        "\n",
        "test_predictions_tensor_amd = modelBase(X_test_amd).flatten()\n",
        "\n",
        "test_predictions_amd = test_predictions_tensor_amd.detach().numpy()\n",
        "yamd_test = y_test_amd.numpy()"
      ]
    },
    {
      "cell_type": "code",
      "execution_count": null,
      "metadata": {
        "colab": {
          "base_uri": "https://localhost:8080/",
          "height": 407
        },
        "id": "vOBkFcm4euFh",
        "outputId": "48c9097f-e3bf-43b4-987d-8b6d02469e53"
      },
      "outputs": [
        {
          "data": {
            "image/png": "[encoded data removed]",
            "text/plain": [
              "<Figure size 1000x400 with 2 Axes>"
            ]
          },
          "metadata": {},
          "output_type": "display_data"
        }
      ],
      "source": [
        "fig, (ax1, ax2) = plt.subplots(1, 2, figsize=(10, 4))\n",
        "\n",
        "ax1.plot(test_predictions_apl)\n",
        "ax1.plot(yapl_test)\n",
        "ax1.set_title('Apple Actual vs Prediction')\n",
        "ax1.legend(['Test Predictions', 'Test Actual'])\n",
        "\n",
        "ax2.plot(test_predictions_amd)\n",
        "ax2.plot(yamd_test)\n",
        "ax2.set_title('AMD  Actual vs Prediction')\n",
        "ax2.legend(['Test Predictions', 'Test Actual'])\n",
        "\n",
        "plt.tight_layout()\n",
        "plt.show()"
      ]
    },
    {
      "attachments": {},
      "cell_type": "markdown",
      "metadata": {
        "id": "NkVM-t4mrp7r"
      },
      "source": [
        "Berdasarkan plot diatas bisa terlihat bahwa nilai prediksi yang dihasilkan model baseline masih belum sepenuhnya baik dan terkesan kurang optimal, nilai prediksi masih berada cukup jauh dari nilai aktualnya. Secara keseluruhan dari hasil performa metrics dan juga plot, arsitektur baseline ini belum cukup optimal, oleh karena itu tuning dan modifikasi terhadap arsitektur diperlukan."
      ]
    },
    {
      "attachments": {},
      "cell_type": "markdown",
      "metadata": {
        "id": "3D0r5qm0o22s"
      },
      "source": [
        "## **Evaluasi Arsitektur yang telah di Tuning**"
      ]
    },
    {
      "cell_type": "code",
      "execution_count": null,
      "metadata": {
        "colab": {
          "base_uri": "https://localhost:8080/"
        },
        "id": "DP3IrHq55ghZ",
        "outputId": "bbbce9ee-c005-487b-f263-3d58012d8b1f"
      },
      "outputs": [
        {
          "name": "stdout",
          "output_type": "stream",
          "text": [
            "RMSE Apple: 0.012279100716114044\n",
            "MAE Apple: 0.007397714536637068\n",
            "MAPE Apple: 1.3169129379093647\n"
          ]
        }
      ],
      "source": [
        "X_test_apl = torch.Tensor(Xapl_test)\n",
        "y_test_apl = torch.Tensor(yapl_test)\n",
        "\n",
        "modelTune.eval()\n",
        "test_predictions_tensor_apl = modelTune(X_test_apl)\n",
        "\n",
        "y_pred = test_predictions_tensor_apl.detach().numpy()\n",
        "y_test = y_test_apl.numpy()\n",
        "\n",
        "rmse = np.sqrt(np.mean((y_test - y_pred) ** 2))\n",
        "mae = np.mean(np.abs(y_test - y_pred))\n",
        "mape = np.mean(np.abs((y_test - y_pred) / y_test)) * 100\n",
        "\n",
        "print(\"RMSE Apple:\", rmse.item())\n",
        "print(\"MAE Apple:\", mae.item())\n",
        "print(\"MAPE Apple:\", mape.item())"
      ]
    },
    {
      "cell_type": "code",
      "execution_count": null,
      "metadata": {
        "colab": {
          "base_uri": "https://localhost:8080/"
        },
        "id": "ev0Hi4eN7XnY",
        "outputId": "c3c7653e-ac04-46be-bd4c-8ad863b986da"
      },
      "outputs": [
        {
          "name": "stdout",
          "output_type": "stream",
          "text": [
            "RMSE AMD: 0.01561425905674696\n",
            "MAE AMD: 0.009223828092217445\n",
            "MAPE AMD: 3.41542549431324\n"
          ]
        }
      ],
      "source": [
        "X_test_amd = torch.Tensor(Xamd_test)\n",
        "y_test_amd = torch.Tensor(yamd_test)\n",
        "\n",
        "modelTune.eval()\n",
        "test_predictions_tensor_amd = modelTune(X_test_amd)\n",
        "\n",
        "y_pred = test_predictions_tensor_amd.detach().numpy()\n",
        "y_test = y_test_amd.numpy()\n",
        "\n",
        "rmse = np.sqrt(np.mean((y_test - y_pred) ** 2))\n",
        "mae = np.mean(np.abs(y_test - y_pred))\n",
        "mape = np.mean(np.abs((y_test - y_pred) / y_test)) * 100\n",
        "\n",
        "print(\"RMSE AMD:\", rmse.item())\n",
        "print(\"MAE AMD:\", mae.item())\n",
        "print(\"MAPE AMD:\", mape.item())"
      ]
    },
    {
      "attachments": {},
      "cell_type": "markdown",
      "metadata": {
        "id": "XUEM_VUfxNtU"
      },
      "source": [
        "Secara keseluruhan arsitektur yang telah di tuning memberikan performa yang sangat baik ketika diterapkan pada kedua dataset test ini.\n",
        "\n",
        "\n",
        "\n",
        "*   Hasil RMSE yang didapat dari kedua dataset berada pada rentan nilai 0.012(Apple) dan 0.015(AMD). Pada model ini, nilai RMSE yang sangat rendah menunjukkan bahwa model memiliki tingkat kesalahan yang sangat kecil dalam memprediksi nilai-nilai. Dengan kata lain, prediksi model sangat dekat dengan nilai aktual.\n",
        "*   Hasil RMSE yang didapat dari kedua dataset berada pada rentan nilai 0.007(Apple) dan 0.009(AMD). Pada model ini,  nilai MAE yang sangat rendah menunjukkan bahwa model memiliki kesalahan yang sangat kecil dalam memprediksi nilai-nilai. Dengan kata lain, selisih antara prediksi dan nilai aktual sangat kecil.\n",
        "*   Hasil MAPE yang didapat dari kedua dataset berada pada rentan nilai 1.3(Apple) dan 3.4(AMD). Pada model ini, nilai MAPE yang sangat rendah menunjukkan bahwa kesalahan prediksi dalam persentase juga sangat kecil. Hal ini menunjukkan bahwa prediksi model sangat dekat dengan nilai aktual dan memiliki tingkat kesalahan yang sangat rendah dalam memprediksi pergerakan harga saham dari kedua dataset.\n",
        "\n",
        "Secara keseluruhan, hasil yang diberikan menunjukkan bahwa model yang telah di tuning ini memiliki tingkat kesalahan yang sangat rendah dan akurat ketika diterapkan pada kedua dataset tersebut serta menandakan bahwa model tersebut dapat memberikan prediksi yang sangat dekat dengan nilai aktual, sehingga dapat digunakan dengan kepercayaan tinggi dalam menginformasikan keputusan atau strategi terkait dengan prediksi saham."
      ]
    },
    {
      "cell_type": "code",
      "execution_count": null,
      "metadata": {
        "id": "a4WKaX67abRJ"
      },
      "outputs": [],
      "source": [
        "X_test_apl = torch.Tensor(Xapl_test)\n",
        "y_test_apl = torch.Tensor(yapl_test)\n",
        "\n",
        "test_predictions_tensor_apl = modelTune(X_test_apl).flatten()\n",
        "\n",
        "test_predictions_apl = test_predictions_tensor_apl.detach().numpy()\n",
        "yapl_test = y_test_apl.numpy()\n",
        "\n",
        "X_test_amd = torch.Tensor(Xamd_test)\n",
        "y_test_amd = torch.Tensor(yamd_test)\n",
        "\n",
        "test_predictions_tensor_amd = modelTune(X_test_amd).flatten()\n",
        "\n",
        "test_predictions_amd = test_predictions_tensor_amd.detach().numpy()\n",
        "yamd_test = y_test_amd.numpy()"
      ]
    },
    {
      "cell_type": "code",
      "execution_count": null,
      "metadata": {
        "colab": {
          "base_uri": "https://localhost:8080/",
          "height": 407
        },
        "id": "kpv4XnS9hM5q",
        "outputId": "145df819-e215-41c1-a256-c681a2a435cd"
      },
      "outputs": [
        {
          "data": {
            "image/png": "[encoded data removed]",
            "text/plain": [
              "<Figure size 1000x400 with 2 Axes>"
            ]
          },
          "metadata": {},
          "output_type": "display_data"
        }
      ],
      "source": [
        "fig, (ax1, ax2) = plt.subplots(1, 2, figsize=(10, 4))\n",
        "\n",
        "ax1.plot(test_predictions_apl)\n",
        "ax1.plot(yapl_test)\n",
        "ax1.set_title('Apple Actual vs Prediction')\n",
        "ax1.legend(['Test Predictions', 'Test Actual'])\n",
        "\n",
        "ax2.plot(test_predictions_amd)\n",
        "ax2.plot(yamd_test)\n",
        "ax2.set_title('AMD Actual vs Prediction')\n",
        "ax2.legend(['Test Predictions', 'Test Actual'])\n",
        "\n",
        "plt.tight_layout()\n",
        "plt.show()"
      ]
    },
    {
      "attachments": {},
      "cell_type": "markdown",
      "metadata": {
        "id": "ZUOAXQawy-bO"
      },
      "source": [
        "Secara keseluruhan berdasarkan hasil evaluasi RMSE, MAE dan MAPE serta plot perbandignan antara nilai prediksi dan nilai aktual dengan menggunakan testing set menunjukan hasil yang sangat baik. Baik dataset Apple maupun AMD dapat memberikan hasil yang akurat dan minim kesalahan. Hal ini menandakan bahwa tuning yang dilakukan pada model ini sudah optimal dan effisien"
      ]
    }
  ],
  "metadata": {
    "colab": {
      "provenance": []
    },
    "kernelspec": {
      "display_name": "Python 3",
      "name": "python3"
    },
    "language_info": {
      "name": "python"
    }
  },
  "nbformat": 4,
  "nbformat_minor": 0
}
